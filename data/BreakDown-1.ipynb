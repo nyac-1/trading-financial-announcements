{
 "cells": [
  {
   "cell_type": "code",
   "execution_count": 2,
   "metadata": {},
   "outputs": [],
   "source": [
    "from PyPDF2 import PdfReader\n",
    "import pandas as pd\n",
    "import glob"
   ]
  },
  {
   "cell_type": "code",
   "execution_count": 3,
   "metadata": {},
   "outputs": [],
   "source": [
    "dir = './aem/'\n",
    "pdfs = glob.glob(dir+'/*.pdf')"
   ]
  },
  {
   "cell_type": "code",
   "execution_count": 25,
   "metadata": {},
   "outputs": [],
   "source": [
    "dates = []\n",
    "\n",
    "for i,pdf in enumerate(pdfs):\n",
    "    dates.append(pdf.replace(dir,\"\").split()[0])\n"
   ]
  },
  {
   "cell_type": "code",
   "execution_count": 19,
   "metadata": {},
   "outputs": [
    {
     "name": "stderr",
     "output_type": "stream",
     "text": [
      "/Users/sampathroutu/opt/anaconda3/lib/python3.8/site-packages/PyPDF2/_page.py:1288: PdfReadWarning:  impossible to decode XFormObject /Meta124\n",
      "  warnings.warn(\n",
      "/Users/sampathroutu/opt/anaconda3/lib/python3.8/site-packages/PyPDF2/_page.py:1288: PdfReadWarning:  impossible to decode XFormObject /Meta155\n",
      "  warnings.warn(\n",
      "/Users/sampathroutu/opt/anaconda3/lib/python3.8/site-packages/PyPDF2/_page.py:1288: PdfReadWarning:  impossible to decode XFormObject /Meta156\n",
      "  warnings.warn(\n",
      "/Users/sampathroutu/opt/anaconda3/lib/python3.8/site-packages/PyPDF2/_page.py:1288: PdfReadWarning:  impossible to decode XFormObject /Meta157\n",
      "  warnings.warn(\n",
      "/Users/sampathroutu/opt/anaconda3/lib/python3.8/site-packages/PyPDF2/_page.py:1288: PdfReadWarning:  impossible to decode XFormObject /Meta172\n",
      "  warnings.warn(\n",
      "/Users/sampathroutu/opt/anaconda3/lib/python3.8/site-packages/PyPDF2/_page.py:1288: PdfReadWarning:  impossible to decode XFormObject /Meta173\n",
      "  warnings.warn(\n",
      "/Users/sampathroutu/opt/anaconda3/lib/python3.8/site-packages/PyPDF2/_page.py:1288: PdfReadWarning:  impossible to decode XFormObject /Meta218\n",
      "  warnings.warn(\n",
      "/Users/sampathroutu/opt/anaconda3/lib/python3.8/site-packages/PyPDF2/_page.py:1288: PdfReadWarning:  impossible to decode XFormObject /Meta219\n",
      "  warnings.warn(\n",
      "/Users/sampathroutu/opt/anaconda3/lib/python3.8/site-packages/PyPDF2/_page.py:1288: PdfReadWarning:  impossible to decode XFormObject /Meta220\n",
      "  warnings.warn(\n",
      "/Users/sampathroutu/opt/anaconda3/lib/python3.8/site-packages/PyPDF2/_page.py:1288: PdfReadWarning:  impossible to decode XFormObject /Meta221\n",
      "  warnings.warn(\n",
      "/Users/sampathroutu/opt/anaconda3/lib/python3.8/site-packages/PyPDF2/_page.py:1288: PdfReadWarning:  impossible to decode XFormObject /Meta240\n",
      "  warnings.warn(\n",
      "/Users/sampathroutu/opt/anaconda3/lib/python3.8/site-packages/PyPDF2/_page.py:1288: PdfReadWarning:  impossible to decode XFormObject /Meta241\n",
      "  warnings.warn(\n",
      "/Users/sampathroutu/opt/anaconda3/lib/python3.8/site-packages/PyPDF2/_page.py:1288: PdfReadWarning:  impossible to decode XFormObject /Meta250\n",
      "  warnings.warn(\n",
      "/Users/sampathroutu/opt/anaconda3/lib/python3.8/site-packages/PyPDF2/_page.py:1288: PdfReadWarning:  impossible to decode XFormObject /Meta251\n",
      "  warnings.warn(\n",
      "/Users/sampathroutu/opt/anaconda3/lib/python3.8/site-packages/PyPDF2/_page.py:1288: PdfReadWarning:  impossible to decode XFormObject /Meta252\n",
      "  warnings.warn(\n",
      "/Users/sampathroutu/opt/anaconda3/lib/python3.8/site-packages/PyPDF2/_page.py:1288: PdfReadWarning:  impossible to decode XFormObject /Meta253\n",
      "  warnings.warn(\n",
      "/Users/sampathroutu/opt/anaconda3/lib/python3.8/site-packages/PyPDF2/_page.py:1288: PdfReadWarning:  impossible to decode XFormObject /Meta110\n",
      "  warnings.warn(\n",
      "/Users/sampathroutu/opt/anaconda3/lib/python3.8/site-packages/PyPDF2/_page.py:1288: PdfReadWarning:  impossible to decode XFormObject /Meta111\n",
      "  warnings.warn(\n"
     ]
    }
   ],
   "source": [
    "texts = []\n",
    "for i,pdf in enumerate(pdfs):\n",
    "    reader = PdfReader(pdf)\n",
    "    full_text = \"\"\n",
    "    for page in reader.pages:\n",
    "        try:\n",
    "            txt=' \\n'.join(page.extract_text().strip()).replace(\" \\n\",\"\")\n",
    "        except:\n",
    "            txt= \"\"\n",
    "        full_text+=txt.replace(\"\\n\",\"\")\n",
    "    texts.append(full_text)\n"
   ]
  },
  {
   "cell_type": "code",
   "execution_count": 20,
   "metadata": {},
   "outputs": [],
   "source": [
    "stock = pd.read_csv(\"./data.csv\")"
   ]
  },
  {
   "cell_type": "code",
   "execution_count": 21,
   "metadata": {},
   "outputs": [
    {
     "data": {
      "text/html": [
       "<div>\n",
       "<style scoped>\n",
       "    .dataframe tbody tr th:only-of-type {\n",
       "        vertical-align: middle;\n",
       "    }\n",
       "\n",
       "    .dataframe tbody tr th {\n",
       "        vertical-align: top;\n",
       "    }\n",
       "\n",
       "    .dataframe thead th {\n",
       "        text-align: right;\n",
       "    }\n",
       "</style>\n",
       "<table border=\"1\" class=\"dataframe\">\n",
       "  <thead>\n",
       "    <tr style=\"text-align: right;\">\n",
       "      <th></th>\n",
       "      <th>Date</th>\n",
       "      <th>Open</th>\n",
       "      <th>High</th>\n",
       "      <th>Low</th>\n",
       "      <th>Close</th>\n",
       "      <th>Adj Close</th>\n",
       "      <th>Volume</th>\n",
       "    </tr>\n",
       "  </thead>\n",
       "  <tbody>\n",
       "    <tr>\n",
       "      <th>0</th>\n",
       "      <td>2017-02-01</td>\n",
       "      <td>0.157500</td>\n",
       "      <td>0.158333</td>\n",
       "      <td>0.156666</td>\n",
       "      <td>0.158333</td>\n",
       "      <td>0.131032</td>\n",
       "      <td>186000</td>\n",
       "    </tr>\n",
       "    <tr>\n",
       "      <th>1</th>\n",
       "      <td>2017-02-02</td>\n",
       "      <td>0.158333</td>\n",
       "      <td>0.158333</td>\n",
       "      <td>0.156666</td>\n",
       "      <td>0.156666</td>\n",
       "      <td>0.129652</td>\n",
       "      <td>549000</td>\n",
       "    </tr>\n",
       "    <tr>\n",
       "      <th>2</th>\n",
       "      <td>2017-02-03</td>\n",
       "      <td>0.156666</td>\n",
       "      <td>0.157500</td>\n",
       "      <td>0.156666</td>\n",
       "      <td>0.156666</td>\n",
       "      <td>0.129652</td>\n",
       "      <td>817800</td>\n",
       "    </tr>\n",
       "    <tr>\n",
       "      <th>3</th>\n",
       "      <td>2017-02-06</td>\n",
       "      <td>0.158333</td>\n",
       "      <td>0.164166</td>\n",
       "      <td>0.158333</td>\n",
       "      <td>0.161666</td>\n",
       "      <td>0.133790</td>\n",
       "      <td>2658600</td>\n",
       "    </tr>\n",
       "    <tr>\n",
       "      <th>4</th>\n",
       "      <td>2017-02-07</td>\n",
       "      <td>0.161666</td>\n",
       "      <td>0.162500</td>\n",
       "      <td>0.160833</td>\n",
       "      <td>0.161666</td>\n",
       "      <td>0.133790</td>\n",
       "      <td>900000</td>\n",
       "    </tr>\n",
       "  </tbody>\n",
       "</table>\n",
       "</div>"
      ],
      "text/plain": [
       "         Date      Open      High       Low     Close  Adj Close   Volume\n",
       "0  2017-02-01  0.157500  0.158333  0.156666  0.158333   0.131032   186000\n",
       "1  2017-02-02  0.158333  0.158333  0.156666  0.156666   0.129652   549000\n",
       "2  2017-02-03  0.156666  0.157500  0.156666  0.156666   0.129652   817800\n",
       "3  2017-02-06  0.158333  0.164166  0.158333  0.161666   0.133790  2658600\n",
       "4  2017-02-07  0.161666  0.162500  0.160833  0.161666   0.133790   900000"
      ]
     },
     "execution_count": 21,
     "metadata": {},
     "output_type": "execute_result"
    }
   ],
   "source": [
    "stock.head()"
   ]
  },
  {
   "cell_type": "code",
   "execution_count": 22,
   "metadata": {},
   "outputs": [],
   "source": [
    "import moment\n",
    "from datetime import datetime"
   ]
  },
  {
   "cell_type": "code",
   "execution_count": 27,
   "metadata": {},
   "outputs": [
    {
     "data": {
      "text/plain": [
       "'27-Mar-2018'"
      ]
     },
     "execution_count": 27,
     "metadata": {},
     "output_type": "execute_result"
    }
   ],
   "source": [
    "dates[0]"
   ]
  },
  {
   "cell_type": "code",
   "execution_count": 29,
   "metadata": {},
   "outputs": [
    {
     "data": {
      "text/plain": [
       "<Moment(2018-03-27T00:00:00)>"
      ]
     },
     "execution_count": 29,
     "metadata": {},
     "output_type": "execute_result"
    }
   ],
   "source": [
    "moment.date(dates[0])"
   ]
  },
  {
   "cell_type": "code",
   "execution_count": 30,
   "metadata": {},
   "outputs": [
    {
     "data": {
      "text/plain": [
       "<Moment(2018-03-27T00:00:00)>"
      ]
     },
     "execution_count": 30,
     "metadata": {},
     "output_type": "execute_result"
    }
   ],
   "source": [
    "moment.date(\"2018-03-27\")"
   ]
  },
  {
   "cell_type": "code",
   "execution_count": 31,
   "metadata": {},
   "outputs": [
    {
     "name": "stdout",
     "output_type": "stream",
     "text": [
      "Then you can fuck it\n"
     ]
    }
   ],
   "source": [
    "def get_stock_window()"
   ]
  },
  {
   "cell_type": "code",
   "execution_count": null,
   "metadata": {},
   "outputs": [],
   "source": []
  }
 ],
 "metadata": {
  "kernelspec": {
   "display_name": "Python 3",
   "language": "python",
   "name": "python3"
  },
  "language_info": {
   "codemirror_mode": {
    "name": "ipython",
    "version": 3
   },
   "file_extension": ".py",
   "mimetype": "text/x-python",
   "name": "python",
   "nbconvert_exporter": "python",
   "pygments_lexer": "ipython3",
   "version": "3.8.3"
  }
 },
 "nbformat": 4,
 "nbformat_minor": 4
}
