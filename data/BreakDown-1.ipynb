{
 "cells": [
  {
   "cell_type": "code",
   "execution_count": 1,
   "metadata": {},
   "outputs": [],
   "source": [
    "from PyPDF2 import PdfReader\n",
    "import pandas as pd\n",
    "import glob\n",
    "\n",
    "import sys\n",
    "sys.path.insert(0, '../util')\n",
    "\n",
    "from clean import *"
   ]
  },
  {
   "cell_type": "code",
   "execution_count": 2,
   "metadata": {},
   "outputs": [],
   "source": [
    "dir = './aem/'\n",
    "pdfs = glob.glob(dir+'/*.pdf')"
   ]
  },
  {
   "cell_type": "code",
   "execution_count": 3,
   "metadata": {},
   "outputs": [],
   "source": [
    "dates = []\n",
    "names = []\n",
    "\n",
    "for i,pdf in enumerate(pdfs):\n",
    "    dates.append(pdf.replace(dir,\"\").split()[0])\n",
    "    names.append(pdfs[i].split(\"/\")[-1])"
   ]
  },
  {
   "cell_type": "code",
   "execution_count": 4,
   "metadata": {},
   "outputs": [],
   "source": [
    "def remove_items(test_list, item):\n",
    "    res = [i for i in test_list if i != item]\n",
    "    return res"
   ]
  },
  {
   "cell_type": "code",
   "execution_count": 5,
   "metadata": {},
   "outputs": [
    {
     "name": "stdout",
     "output_type": "stream",
     "text": [
      "0\n",
      "10\n",
      "20\n",
      "30\n",
      "40\n",
      "50\n",
      "60\n",
      "70\n",
      "80\n",
      "90\n",
      "100\n",
      "110\n",
      "120\n",
      "130\n",
      "140\n",
      "150\n",
      "160\n",
      "170\n",
      "180\n",
      "190\n",
      "200\n",
      "210\n",
      "220\n",
      "230\n",
      "240\n",
      "250\n",
      "260\n",
      "270\n",
      "280\n",
      "290\n",
      "300\n",
      "310\n",
      "320\n",
      "330\n",
      "340\n",
      "350\n",
      "360\n",
      "370\n",
      "380\n",
      "390\n",
      "400\n",
      "410\n"
     ]
    },
    {
     "name": "stderr",
     "output_type": "stream",
     "text": [
      "/Users/sampathroutu/opt/anaconda3/lib/python3.8/site-packages/PyPDF2/_page.py:1288: PdfReadWarning:  impossible to decode XFormObject /Meta124\n",
      "  warnings.warn(\n",
      "/Users/sampathroutu/opt/anaconda3/lib/python3.8/site-packages/PyPDF2/_page.py:1288: PdfReadWarning:  impossible to decode XFormObject /Meta155\n",
      "  warnings.warn(\n",
      "/Users/sampathroutu/opt/anaconda3/lib/python3.8/site-packages/PyPDF2/_page.py:1288: PdfReadWarning:  impossible to decode XFormObject /Meta156\n",
      "  warnings.warn(\n",
      "/Users/sampathroutu/opt/anaconda3/lib/python3.8/site-packages/PyPDF2/_page.py:1288: PdfReadWarning:  impossible to decode XFormObject /Meta157\n",
      "  warnings.warn(\n",
      "/Users/sampathroutu/opt/anaconda3/lib/python3.8/site-packages/PyPDF2/_page.py:1288: PdfReadWarning:  impossible to decode XFormObject /Meta172\n",
      "  warnings.warn(\n",
      "/Users/sampathroutu/opt/anaconda3/lib/python3.8/site-packages/PyPDF2/_page.py:1288: PdfReadWarning:  impossible to decode XFormObject /Meta173\n",
      "  warnings.warn(\n",
      "/Users/sampathroutu/opt/anaconda3/lib/python3.8/site-packages/PyPDF2/_page.py:1288: PdfReadWarning:  impossible to decode XFormObject /Meta218\n",
      "  warnings.warn(\n",
      "/Users/sampathroutu/opt/anaconda3/lib/python3.8/site-packages/PyPDF2/_page.py:1288: PdfReadWarning:  impossible to decode XFormObject /Meta219\n",
      "  warnings.warn(\n",
      "/Users/sampathroutu/opt/anaconda3/lib/python3.8/site-packages/PyPDF2/_page.py:1288: PdfReadWarning:  impossible to decode XFormObject /Meta220\n",
      "  warnings.warn(\n",
      "/Users/sampathroutu/opt/anaconda3/lib/python3.8/site-packages/PyPDF2/_page.py:1288: PdfReadWarning:  impossible to decode XFormObject /Meta221\n",
      "  warnings.warn(\n",
      "/Users/sampathroutu/opt/anaconda3/lib/python3.8/site-packages/PyPDF2/_page.py:1288: PdfReadWarning:  impossible to decode XFormObject /Meta240\n",
      "  warnings.warn(\n",
      "/Users/sampathroutu/opt/anaconda3/lib/python3.8/site-packages/PyPDF2/_page.py:1288: PdfReadWarning:  impossible to decode XFormObject /Meta241\n",
      "  warnings.warn(\n",
      "/Users/sampathroutu/opt/anaconda3/lib/python3.8/site-packages/PyPDF2/_page.py:1288: PdfReadWarning:  impossible to decode XFormObject /Meta250\n",
      "  warnings.warn(\n",
      "/Users/sampathroutu/opt/anaconda3/lib/python3.8/site-packages/PyPDF2/_page.py:1288: PdfReadWarning:  impossible to decode XFormObject /Meta251\n",
      "  warnings.warn(\n",
      "/Users/sampathroutu/opt/anaconda3/lib/python3.8/site-packages/PyPDF2/_page.py:1288: PdfReadWarning:  impossible to decode XFormObject /Meta252\n",
      "  warnings.warn(\n",
      "/Users/sampathroutu/opt/anaconda3/lib/python3.8/site-packages/PyPDF2/_page.py:1288: PdfReadWarning:  impossible to decode XFormObject /Meta253\n",
      "  warnings.warn(\n"
     ]
    },
    {
     "name": "stdout",
     "output_type": "stream",
     "text": [
      "420\n",
      "430\n",
      "440\n",
      "450\n",
      "460\n",
      "470\n",
      "480\n",
      "490\n",
      "500\n",
      "510\n",
      "520\n"
     ]
    },
    {
     "name": "stderr",
     "output_type": "stream",
     "text": [
      "/Users/sampathroutu/opt/anaconda3/lib/python3.8/site-packages/PyPDF2/_page.py:1288: PdfReadWarning:  impossible to decode XFormObject /Meta110\n",
      "  warnings.warn(\n",
      "/Users/sampathroutu/opt/anaconda3/lib/python3.8/site-packages/PyPDF2/_page.py:1288: PdfReadWarning:  impossible to decode XFormObject /Meta111\n",
      "  warnings.warn(\n"
     ]
    },
    {
     "name": "stdout",
     "output_type": "stream",
     "text": [
      "530\n",
      "540\n"
     ]
    }
   ],
   "source": [
    "texts = []\n",
    "lengths = []\n",
    "for i,pdf in enumerate(pdfs):\n",
    "    reader = PdfReader(pdf)\n",
    "    full_text = \"\"\n",
    "    for page in reader.pages:\n",
    "        try:\n",
    "            txt=' \\n'.join(page.extract_text().strip()).replace(\" \\n\",\"\")\n",
    "        except:\n",
    "            txt= \"\"\n",
    "        full_text+=txt.replace(\"\\n\",\"\")\n",
    "    texts.append(complete_clean(full_text))\n",
    "        \n",
    "    new_list  = full_text.split(\" \")\n",
    "    new_list = remove_items(new_list, \"\")\n",
    "    new_list = remove_items(new_list, \" \")\n",
    "    lengths.append(len(new_list))\n",
    "    \n",
    "    if(i%10 == 0):\n",
    "        print(i)"
   ]
  },
  {
   "cell_type": "code",
   "execution_count": 7,
   "metadata": {},
   "outputs": [],
   "source": [
    "df = pd.DataFrame(columns=['name','text'])\n",
    "df['name'] = names\n",
    "df['text'] = texts"
   ]
  },
  {
   "cell_type": "code",
   "execution_count": 8,
   "metadata": {},
   "outputs": [],
   "source": [
    "df.to_csv(\"text.csv\", index = True)"
   ]
  },
  {
   "cell_type": "code",
   "execution_count": 16,
   "metadata": {},
   "outputs": [],
   "source": [
    "df = pd.read_csv(\"./text.csv\")\n",
    "ln = df['text'].apply(lambda x: len(x.split(' ')))"
   ]
  },
  {
   "cell_type": "code",
   "execution_count": 20,
   "metadata": {},
   "outputs": [
    {
     "name": "stdout",
     "output_type": "stream",
     "text": [
      "sgxnet announcement aem holdings ltd registration sales orders received company pleased announce december received sales orders worth million delivery fy order board loke wai san executive chairman december\n"
     ]
    }
   ],
   "source": [
    "for x in df['text']:\n",
    "    if(len(x) < 300):\n",
    "        print(x)\n",
    "        break"
   ]
  },
  {
   "cell_type": "code",
   "execution_count": 20,
   "metadata": {},
   "outputs": [],
   "source": [
    "stock = pd.read_csv(\"./data.csv\")"
   ]
  },
  {
   "cell_type": "code",
   "execution_count": 21,
   "metadata": {},
   "outputs": [
    {
     "data": {
      "text/html": [
       "<div>\n",
       "<style scoped>\n",
       "    .dataframe tbody tr th:only-of-type {\n",
       "        vertical-align: middle;\n",
       "    }\n",
       "\n",
       "    .dataframe tbody tr th {\n",
       "        vertical-align: top;\n",
       "    }\n",
       "\n",
       "    .dataframe thead th {\n",
       "        text-align: right;\n",
       "    }\n",
       "</style>\n",
       "<table border=\"1\" class=\"dataframe\">\n",
       "  <thead>\n",
       "    <tr style=\"text-align: right;\">\n",
       "      <th></th>\n",
       "      <th>Date</th>\n",
       "      <th>Open</th>\n",
       "      <th>High</th>\n",
       "      <th>Low</th>\n",
       "      <th>Close</th>\n",
       "      <th>Adj Close</th>\n",
       "      <th>Volume</th>\n",
       "    </tr>\n",
       "  </thead>\n",
       "  <tbody>\n",
       "    <tr>\n",
       "      <th>0</th>\n",
       "      <td>2017-02-01</td>\n",
       "      <td>0.157500</td>\n",
       "      <td>0.158333</td>\n",
       "      <td>0.156666</td>\n",
       "      <td>0.158333</td>\n",
       "      <td>0.131032</td>\n",
       "      <td>186000</td>\n",
       "    </tr>\n",
       "    <tr>\n",
       "      <th>1</th>\n",
       "      <td>2017-02-02</td>\n",
       "      <td>0.158333</td>\n",
       "      <td>0.158333</td>\n",
       "      <td>0.156666</td>\n",
       "      <td>0.156666</td>\n",
       "      <td>0.129652</td>\n",
       "      <td>549000</td>\n",
       "    </tr>\n",
       "    <tr>\n",
       "      <th>2</th>\n",
       "      <td>2017-02-03</td>\n",
       "      <td>0.156666</td>\n",
       "      <td>0.157500</td>\n",
       "      <td>0.156666</td>\n",
       "      <td>0.156666</td>\n",
       "      <td>0.129652</td>\n",
       "      <td>817800</td>\n",
       "    </tr>\n",
       "    <tr>\n",
       "      <th>3</th>\n",
       "      <td>2017-02-06</td>\n",
       "      <td>0.158333</td>\n",
       "      <td>0.164166</td>\n",
       "      <td>0.158333</td>\n",
       "      <td>0.161666</td>\n",
       "      <td>0.133790</td>\n",
       "      <td>2658600</td>\n",
       "    </tr>\n",
       "    <tr>\n",
       "      <th>4</th>\n",
       "      <td>2017-02-07</td>\n",
       "      <td>0.161666</td>\n",
       "      <td>0.162500</td>\n",
       "      <td>0.160833</td>\n",
       "      <td>0.161666</td>\n",
       "      <td>0.133790</td>\n",
       "      <td>900000</td>\n",
       "    </tr>\n",
       "  </tbody>\n",
       "</table>\n",
       "</div>"
      ],
      "text/plain": [
       "         Date      Open      High       Low     Close  Adj Close   Volume\n",
       "0  2017-02-01  0.157500  0.158333  0.156666  0.158333   0.131032   186000\n",
       "1  2017-02-02  0.158333  0.158333  0.156666  0.156666   0.129652   549000\n",
       "2  2017-02-03  0.156666  0.157500  0.156666  0.156666   0.129652   817800\n",
       "3  2017-02-06  0.158333  0.164166  0.158333  0.161666   0.133790  2658600\n",
       "4  2017-02-07  0.161666  0.162500  0.160833  0.161666   0.133790   900000"
      ]
     },
     "execution_count": 21,
     "metadata": {},
     "output_type": "execute_result"
    }
   ],
   "source": [
    "stock.head()"
   ]
  },
  {
   "cell_type": "code",
   "execution_count": 22,
   "metadata": {},
   "outputs": [],
   "source": [
    "import moment\n",
    "from datetime import datetime"
   ]
  },
  {
   "cell_type": "code",
   "execution_count": 27,
   "metadata": {},
   "outputs": [
    {
     "data": {
      "text/plain": [
       "'27-Mar-2018'"
      ]
     },
     "execution_count": 27,
     "metadata": {},
     "output_type": "execute_result"
    }
   ],
   "source": [
    "dates[0]"
   ]
  },
  {
   "cell_type": "code",
   "execution_count": 29,
   "metadata": {},
   "outputs": [
    {
     "data": {
      "text/plain": [
       "<Moment(2018-03-27T00:00:00)>"
      ]
     },
     "execution_count": 29,
     "metadata": {},
     "output_type": "execute_result"
    }
   ],
   "source": [
    "moment.date(dates[0])"
   ]
  },
  {
   "cell_type": "code",
   "execution_count": 30,
   "metadata": {},
   "outputs": [
    {
     "data": {
      "text/plain": [
       "<Moment(2018-03-27T00:00:00)>"
      ]
     },
     "execution_count": 30,
     "metadata": {},
     "output_type": "execute_result"
    }
   ],
   "source": [
    "moment.date(\"2018-03-27\")"
   ]
  },
  {
   "cell_type": "code",
   "execution_count": 31,
   "metadata": {},
   "outputs": [
    {
     "name": "stdout",
     "output_type": "stream",
     "text": [
      "Then you can fuck it\n"
     ]
    }
   ],
   "source": [
    "def get_stock_window()"
   ]
  },
  {
   "cell_type": "code",
   "execution_count": null,
   "metadata": {},
   "outputs": [],
   "source": []
  }
 ],
 "metadata": {
  "kernelspec": {
   "display_name": "Python 3",
   "language": "python",
   "name": "python3"
  },
  "language_info": {
   "codemirror_mode": {
    "name": "ipython",
    "version": 3
   },
   "file_extension": ".py",
   "mimetype": "text/x-python",
   "name": "python",
   "nbconvert_exporter": "python",
   "pygments_lexer": "ipython3",
   "version": "3.8.3"
  }
 },
 "nbformat": 4,
 "nbformat_minor": 4
}
