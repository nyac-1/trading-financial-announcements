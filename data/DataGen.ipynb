{
 "cells": [
  {
   "cell_type": "code",
   "execution_count": 1,
   "metadata": {},
   "outputs": [],
   "source": [
    "from PyPDF2 import PdfReader\n",
    "import pandas as pd\n",
    "import glob"
   ]
  },
  {
   "cell_type": "code",
   "execution_count": 2,
   "metadata": {},
   "outputs": [],
   "source": [
    "dir = './aem/'\n",
    "pdfs = glob.glob(dir+'/*.pdf')"
   ]
  },
  {
   "cell_type": "code",
   "execution_count": 3,
   "metadata": {},
   "outputs": [],
   "source": [
    "from transformers import BertTokenizer, BertForSequenceClassification\n",
    "import torch\n",
    "from transformers import pipeline"
   ]
  },
  {
   "cell_type": "code",
   "execution_count": 4,
   "metadata": {},
   "outputs": [
    {
     "data": {
      "application/vnd.jupyter.widget-view+json": {
       "model_id": "0f165e19918a4d089b50da5eaec70fa7",
       "version_major": 2,
       "version_minor": 0
      },
      "text/plain": [
       "HBox(children=(FloatProgress(value=0.0, description='Downloading', max=439101405.0, style=ProgressStyle(descri…"
      ]
     },
     "metadata": {},
     "output_type": "display_data"
    },
    {
     "name": "stdout",
     "output_type": "stream",
     "text": [
      "\n"
     ]
    }
   ],
   "source": [
    "finbert = BertForSequenceClassification.from_pretrained('yiyanghkust/finbert-tone',num_labels=3)\n",
    "tokenizer = BertTokenizer.from_pretrained('yiyanghkust/finbert-tone')\n",
    "nlp = pipeline(\"sentiment-analysis\", model=finbert, tokenizer=tokenizer)"
   ]
  },
  {
   "cell_type": "code",
   "execution_count": 5,
   "metadata": {},
   "outputs": [],
   "source": [
    "df = pd.DataFrame(columns=['date','text','sentiment','return','volatility'])"
   ]
  },
  {
   "cell_type": "code",
   "execution_count": null,
   "metadata": {},
   "outputs": [],
   "source": []
  },
  {
   "cell_type": "code",
   "execution_count": 16,
   "metadata": {},
   "outputs": [
    {
     "ename": "NameError",
     "evalue": "name 'finbert' is not defined",
     "output_type": "error",
     "traceback": [
      "\u001b[0;31m---------------------------------------------------------------------------\u001b[0m",
      "\u001b[0;31mNameError\u001b[0m                                 Traceback (most recent call last)",
      "\u001b[0;32m<ipython-input-16-9eb8f40a8737>\u001b[0m in \u001b[0;36m<module>\u001b[0;34m\u001b[0m\n\u001b[1;32m      6\u001b[0m         \u001b[0mtxt\u001b[0m\u001b[0;34m=\u001b[0m\u001b[0;34m' \\n'\u001b[0m\u001b[0;34m.\u001b[0m\u001b[0mjoin\u001b[0m\u001b[0;34m(\u001b[0m\u001b[0mpage\u001b[0m\u001b[0;34m.\u001b[0m\u001b[0mextract_text\u001b[0m\u001b[0;34m(\u001b[0m\u001b[0;34m)\u001b[0m\u001b[0;34m.\u001b[0m\u001b[0mstrip\u001b[0m\u001b[0;34m(\u001b[0m\u001b[0;34m)\u001b[0m\u001b[0;34m)\u001b[0m\u001b[0;34m\u001b[0m\u001b[0;34m\u001b[0m\u001b[0m\n\u001b[1;32m      7\u001b[0m         \u001b[0minputs\u001b[0m \u001b[0;34m=\u001b[0m \u001b[0mtokenizer\u001b[0m\u001b[0;34m(\u001b[0m\u001b[0mtxt\u001b[0m\u001b[0;34m,\u001b[0m \u001b[0mreturn_tensors\u001b[0m\u001b[0;34m=\u001b[0m\u001b[0;34m\"pt\"\u001b[0m\u001b[0;34m,\u001b[0m\u001b[0mmax_length\u001b[0m\u001b[0;34m=\u001b[0m\u001b[0;36m512\u001b[0m\u001b[0;34m,\u001b[0m\u001b[0mtruncation\u001b[0m\u001b[0;34m=\u001b[0m\u001b[0;32mTrue\u001b[0m\u001b[0;34m)\u001b[0m\u001b[0;34m\u001b[0m\u001b[0;34m\u001b[0m\u001b[0m\n\u001b[0;32m----> 8\u001b[0;31m         \u001b[0moutputs\u001b[0m \u001b[0;34m=\u001b[0m \u001b[0mfinbert\u001b[0m\u001b[0;34m(\u001b[0m\u001b[0;34m**\u001b[0m\u001b[0minputs\u001b[0m\u001b[0;34m)\u001b[0m\u001b[0;34m\u001b[0m\u001b[0;34m\u001b[0m\u001b[0m\n\u001b[0m\u001b[1;32m      9\u001b[0m         \u001b[0msent\u001b[0m\u001b[0;34m=\u001b[0m\u001b[0mtorch\u001b[0m\u001b[0;34m.\u001b[0m\u001b[0margmax\u001b[0m\u001b[0;34m(\u001b[0m\u001b[0moutputs\u001b[0m\u001b[0;34m[\u001b[0m\u001b[0;36m0\u001b[0m\u001b[0;34m]\u001b[0m\u001b[0;34m)\u001b[0m\u001b[0;34m\u001b[0m\u001b[0;34m\u001b[0m\u001b[0m\n\u001b[1;32m     10\u001b[0m         \u001b[0;32mif\u001b[0m \u001b[0msent\u001b[0m\u001b[0;34m==\u001b[0m\u001b[0;36m1\u001b[0m\u001b[0;34m:\u001b[0m \u001b[0msentSum\u001b[0m\u001b[0;34m+=\u001b[0m\u001b[0;36m1\u001b[0m\u001b[0;34m\u001b[0m\u001b[0;34m\u001b[0m\u001b[0m\n",
      "\u001b[0;31mNameError\u001b[0m: name 'finbert' is not defined"
     ]
    }
   ],
   "source": [
    "sentLs = []\n",
    "\n",
    "for i,pdf in enumerate(pdfs):\n",
    "    reader = PdfReader(pdf)\n",
    "    sentSum=0\n",
    "    for page in reader.pages:\n",
    "        txt=' \\n'.join(page.extract_text().strip())\n",
    "        inputs = tokenizer(txt, return_tensors=\"pt\",max_length=512,truncation=True)\n",
    "        outputs = finbert(**inputs)\n",
    "        sent=torch.argmax(outputs[0])\n",
    "        if sent==1: sentSum+=1\n",
    "        elif sent==2: sentSum-=1\n",
    "    \n",
    "    sentLs.append(sentSum)\n",
    "    print(i)\n",
    "    break"
   ]
  },
  {
   "cell_type": "code",
   "execution_count": 15,
   "metadata": {},
   "outputs": [
    {
     "data": {
      "text/plain": [
       "'Export XML1.    Please read the explanatory notes carefully before completing the notification form.  \\n  \\n2.   This form is for a Substantial Shareholder(s)/Unitholder(s) to give notice under section 135, 136, 137, 137J \\n(as applicable to sections 135, 136 and 137) or 137U (as applicable to sections 135, 136 and 137) of the \\nSecurities and Futures Act (the \"SFA\").  \\n  \\n3.  This electronic Form 3 and a separate Form C, containing the particulars and contact details of the \\nSubstantial Shareholder(s)/Unitholder(s), must be completed by the Substantial Shareholder(s)/\\nUnitholder(s) or a person duly authorised by the Substantial Shareholder(s)/Unitholder(s) to do so. The \\nperson so authorised should maintain records of information furnished to him by the Substantial \\nShareholder(s)/Unitholder(s).  \\n  \\n4.   This form and Form C, are to be completed electronically and sent to the Listed Issuer via an electronic \\nmedium such as an e-mail attachment. The Listed Issuer will attach both forms to the prescribed SGXNet \\nannouncement template for dissemination as required under section 137G(1), 137R(1) or 137ZC(1) of the \\nSFA, as the case may be. While Form C will be attached to the announcement template, it will not be \\ndisseminated to the public and is made available only to the Monetary Authority of Singapore (the \\n\"Authority\").  \\n  \\n5.  Where a transaction results in similar notifiable obligations on the part of more than one Substantial \\nShareholder/Unitholder, all of these Substantial Shareholders/Unitholders may give notice using the same \\nnotification form.  \\n  \\n6.    A single form may be used by a Substantial Shareholder/Unitholder for more than one transaction resulting \\nin notifiable obligations which occur within the same notifiable period (i.e. within two business days of \\nbecoming aware of the earliest transaction). There must be no netting-off of two or more notifiable \\ntransactions even if they occur within the same day.  \\n  \\n7.  All applicable parts of the notification form must be completed. If there is insufficient space for your \\nanswers, please include attachment(s) by clicking the paper clip icon on the bottom left-hand corner or in \\nitem 11 of Part II or item 10 of Part III. The total file size for all attachment(s) should not exceed 1MB. \\n  \\n8.   Except for item 5 of Part II and item 1 of Part IV, please select only one option from the relevant check \\nboxes.  \\n  \\n9.    Please note that submission of any false or misleading information is an offence under Part VII of the SFA. \\n  \\n10.  In this form, the term \"Listed Issuer\" refers to  -  \\n  \\n       (a)     a company incorporated in Singapore any or all of the shares in which are listed for quotation on the  \\n                official list of a securities exchange;  \\n  \\n       (b)     a corporation (not being a company incorporated in Singapore, or a collective investment scheme  \\n                constituted as a corporation) any or all of the shares in which are listed for quotation on the official list\\n                of a securities exchange,such listing being a primary listing;  \\n    \\n \\n Explanatory Notes\\nSECURITIES AND FUTURES ACT (CAP. 289) \\nSECURITIES AND FUTURES (DISCLOSURE OF INTERESTS) \\nREGULATIONS 2012 \\n  \\nNOTIFICATION FORM FOR SUBSTANTIAL SHAREHOLDER(S)/\\nUNITHOLDER(S) IN RESPECT OF INTERESTS IN SECURITIES  \\n\\nFORM \\n3 \\n(Electronic Format)'"
      ]
     },
     "execution_count": 15,
     "metadata": {},
     "output_type": "execute_result"
    }
   ],
   "source": []
  },
  {
   "cell_type": "code",
   "execution_count": null,
   "metadata": {},
   "outputs": [],
   "source": []
  }
 ],
 "metadata": {
  "kernelspec": {
   "display_name": "Python 3",
   "language": "python",
   "name": "python3"
  },
  "language_info": {
   "codemirror_mode": {
    "name": "ipython",
    "version": 3
   },
   "file_extension": ".py",
   "mimetype": "text/x-python",
   "name": "python",
   "nbconvert_exporter": "python",
   "pygments_lexer": "ipython3",
   "version": "3.8.3"
  }
 },
 "nbformat": 4,
 "nbformat_minor": 4
}
