{
 "cells": [
  {
   "cell_type": "code",
   "execution_count": 1,
   "metadata": {},
   "outputs": [],
   "source": [
    "from PyPDF2 import PdfReader\n",
    "import pandas as pd\n",
    "import glob"
   ]
  },
  {
   "cell_type": "code",
   "execution_count": 2,
   "metadata": {},
   "outputs": [],
   "source": [
    "dir = './aem/'\n",
    "pdfs = glob.glob(dir+'/*.pdf')"
   ]
  },
  {
   "cell_type": "code",
   "execution_count": 3,
   "metadata": {},
   "outputs": [],
   "source": [
    "from transformers import BertTokenizer, BertForSequenceClassification\n",
    "import torch\n",
    "from transformers import pipeline"
   ]
  },
  {
   "cell_type": "code",
   "execution_count": 4,
   "metadata": {},
   "outputs": [
    {
     "data": {
      "application/vnd.jupyter.widget-view+json": {
       "model_id": "0f165e19918a4d089b50da5eaec70fa7",
       "version_major": 2,
       "version_minor": 0
      },
      "text/plain": [
       "HBox(children=(FloatProgress(value=0.0, description='Downloading', max=439101405.0, style=ProgressStyle(descri…"
      ]
     },
     "metadata": {},
     "output_type": "display_data"
    },
    {
     "name": "stdout",
     "output_type": "stream",
     "text": [
      "\n"
     ]
    }
   ],
   "source": [
    "finbert = BertForSequenceClassification.from_pretrained('yiyanghkust/finbert-tone',num_labels=3)\n",
    "tokenizer = BertTokenizer.from_pretrained('yiyanghkust/finbert-tone')\n",
    "nlp = pipeline(\"sentiment-analysis\", model=finbert, tokenizer=tokenizer)"
   ]
  },
  {
   "cell_type": "code",
   "execution_count": 5,
   "metadata": {},
   "outputs": [],
   "source": [
    "df = pd.DataFrame(columns=['date','text','sentiment','return','volatility'])"
   ]
  },
  {
   "cell_type": "code",
   "execution_count": null,
   "metadata": {},
   "outputs": [],
   "source": []
  },
  {
   "cell_type": "code",
   "execution_count": 4,
   "metadata": {},
   "outputs": [
    {
     "ename": "NameError",
     "evalue": "name 'tokenizer' is not defined",
     "output_type": "error",
     "traceback": [
      "\u001b[0;31m---------------------------------------------------------------------------\u001b[0m",
      "\u001b[0;31mNameError\u001b[0m                                 Traceback (most recent call last)",
      "\u001b[0;32m<ipython-input-4-93b99a1c4f2c>\u001b[0m in \u001b[0;36m<module>\u001b[0;34m\u001b[0m\n\u001b[1;32m      6\u001b[0m     \u001b[0;32mfor\u001b[0m \u001b[0mpage\u001b[0m \u001b[0;32min\u001b[0m \u001b[0mreader\u001b[0m\u001b[0;34m.\u001b[0m\u001b[0mpages\u001b[0m\u001b[0;34m:\u001b[0m\u001b[0;34m\u001b[0m\u001b[0;34m\u001b[0m\u001b[0m\n\u001b[1;32m      7\u001b[0m         \u001b[0mtxt\u001b[0m\u001b[0;34m=\u001b[0m\u001b[0;34m' \\n'\u001b[0m\u001b[0;34m.\u001b[0m\u001b[0mjoin\u001b[0m\u001b[0;34m(\u001b[0m\u001b[0mpage\u001b[0m\u001b[0;34m.\u001b[0m\u001b[0mextract_text\u001b[0m\u001b[0;34m(\u001b[0m\u001b[0;34m)\u001b[0m\u001b[0;34m.\u001b[0m\u001b[0mstrip\u001b[0m\u001b[0;34m(\u001b[0m\u001b[0;34m)\u001b[0m\u001b[0;34m)\u001b[0m\u001b[0;34m\u001b[0m\u001b[0;34m\u001b[0m\u001b[0m\n\u001b[0;32m----> 8\u001b[0;31m         \u001b[0minputs\u001b[0m \u001b[0;34m=\u001b[0m \u001b[0mtokenizer\u001b[0m\u001b[0;34m(\u001b[0m\u001b[0mtxt\u001b[0m\u001b[0;34m,\u001b[0m \u001b[0mreturn_tensors\u001b[0m\u001b[0;34m=\u001b[0m\u001b[0;34m\"pt\"\u001b[0m\u001b[0;34m,\u001b[0m\u001b[0mmax_length\u001b[0m\u001b[0;34m=\u001b[0m\u001b[0;36m512\u001b[0m\u001b[0;34m,\u001b[0m\u001b[0mtruncation\u001b[0m\u001b[0;34m=\u001b[0m\u001b[0;32mTrue\u001b[0m\u001b[0;34m)\u001b[0m\u001b[0;34m\u001b[0m\u001b[0;34m\u001b[0m\u001b[0m\n\u001b[0m\u001b[1;32m      9\u001b[0m         \u001b[0moutputs\u001b[0m \u001b[0;34m=\u001b[0m \u001b[0mfinbert\u001b[0m\u001b[0;34m(\u001b[0m\u001b[0;34m**\u001b[0m\u001b[0minputs\u001b[0m\u001b[0;34m)\u001b[0m\u001b[0;34m\u001b[0m\u001b[0;34m\u001b[0m\u001b[0m\n\u001b[1;32m     10\u001b[0m         \u001b[0msent\u001b[0m\u001b[0;34m=\u001b[0m\u001b[0mtorch\u001b[0m\u001b[0;34m.\u001b[0m\u001b[0margmax\u001b[0m\u001b[0;34m(\u001b[0m\u001b[0moutputs\u001b[0m\u001b[0;34m[\u001b[0m\u001b[0;36m0\u001b[0m\u001b[0;34m]\u001b[0m\u001b[0;34m)\u001b[0m\u001b[0;34m\u001b[0m\u001b[0;34m\u001b[0m\u001b[0m\n",
      "\u001b[0;31mNameError\u001b[0m: name 'tokenizer' is not defined"
     ]
    }
   ],
   "source": [
    "sentLs = []\n",
    "\n",
    "for i,pdf in enumerate(pdfs):\n",
    "    reader = PdfReader(pdf)\n",
    "    sentSum=0\n",
    "    for page in reader.pages:\n",
    "        txt=' \\n'.join(page.extract_text().strip())\n",
    "        inputs = tokenizer(txt, return_tensors=\"pt\",max_length=512,truncation=True)\n",
    "        outputs = finbert(**inputs)\n",
    "        sent=torch.argmax(outputs[0])\n",
    "        if sent==1: sentSum+=1\n",
    "        elif sent==2: sentSum-=1\n",
    "    \n",
    "    sentLs.append(sentSum)\n",
    "    print(i)\n",
    "    break"
   ]
  },
  {
   "cell_type": "code",
   "execution_count": 6,
   "metadata": {},
   "outputs": [],
   "source": [
    "txt=' \\n'.join(page.extract_text().strip())"
   ]
  },
  {
   "cell_type": "code",
   "execution_count": 7,
   "metadata": {},
   "outputs": [
    {
     "data": {
      "text/plain": [
       "'E \\nx \\np \\no \\nr \\nt \\n  \\nX \\nM \\nL \\n1 \\n. \\n  \\n  \\n  \\n  \\nP \\nl \\ne \\na \\ns \\ne \\n  \\nr \\ne \\na \\nd \\n  \\nt \\nh \\ne \\n  \\ne \\nx \\np \\nl \\na \\nn \\na \\nt \\no \\nr \\ny \\n  \\nn \\no \\nt \\ne \\ns \\n  \\nc \\na \\nr \\ne \\nf \\nu \\nl \\nl \\ny \\n  \\nb \\ne \\nf \\no \\nr \\ne \\n  \\nc \\no \\nm \\np \\nl \\ne \\nt \\ni \\nn \\ng \\n  \\nt \\nh \\ne \\n  \\nn \\no \\nt \\ni \\nf \\ni \\nc \\na \\nt \\ni \\no \\nn \\n  \\nf \\no \\nr \\nm \\n. \\n  \\n  \\n\\n \\n  \\n  \\n\\n \\n2 \\n. \\n  \\n  \\n  \\nT \\nh \\ni \\ns \\n  \\nf \\no \\nr \\nm \\n  \\ni \\ns \\n  \\nf \\no \\nr \\n  \\na \\n  \\nS \\nu \\nb \\ns \\nt \\na \\nn \\nt \\ni \\na \\nl \\n  \\nS \\nh \\na \\nr \\ne \\nh \\no \\nl \\nd \\ne \\nr \\n( \\ns \\n) \\n/ \\nU \\nn \\ni \\nt \\nh \\no \\nl \\nd \\ne \\nr \\n( \\ns \\n) \\n  \\nt \\no \\n  \\ng \\ni \\nv \\ne \\n  \\nn \\no \\nt \\ni \\nc \\ne \\n  \\nu \\nn \\nd \\ne \\nr \\n  \\ns \\ne \\nc \\nt \\ni \\no \\nn \\n  \\n1 \\n3 \\n5 \\n, \\n  \\n1 \\n3 \\n6 \\n, \\n  \\n1 \\n3 \\n7 \\n, \\n  \\n1 \\n3 \\n7 \\nJ \\n  \\n\\n \\n( \\na \\ns \\n  \\na \\np \\np \\nl \\ni \\nc \\na \\nb \\nl \\ne \\n  \\nt \\no \\n  \\ns \\ne \\nc \\nt \\ni \\no \\nn \\ns \\n  \\n1 \\n3 \\n5 \\n, \\n  \\n1 \\n3 \\n6 \\n  \\na \\nn \\nd \\n  \\n1 \\n3 \\n7 \\n) \\n  \\no \\nr \\n  \\n1 \\n3 \\n7 \\nU \\n  \\n( \\na \\ns \\n  \\na \\np \\np \\nl \\ni \\nc \\na \\nb \\nl \\ne \\n  \\nt \\no \\n  \\ns \\ne \\nc \\nt \\ni \\no \\nn \\ns \\n  \\n1 \\n3 \\n5 \\n, \\n  \\n1 \\n3 \\n6 \\n  \\na \\nn \\nd \\n  \\n1 \\n3 \\n7 \\n) \\n  \\no \\nf \\n  \\nt \\nh \\ne \\n  \\n\\n \\nS \\ne \\nc \\nu \\nr \\ni \\nt \\ni \\ne \\ns \\n  \\na \\nn \\nd \\n  \\nF \\nu \\nt \\nu \\nr \\ne \\ns \\n  \\nA \\nc \\nt \\n  \\n( \\nt \\nh \\ne \\n  \\n\" \\nS \\nF \\nA \\n\" \\n) \\n. \\n  \\n  \\n\\n \\n  \\n  \\n\\n \\n3 \\n. \\n  \\n  \\nT \\nh \\ni \\ns \\n  \\ne \\nl \\ne \\nc \\nt \\nr \\no \\nn \\ni \\nc \\n  \\nF \\no \\nr \\nm \\n  \\n3 \\n  \\na \\nn \\nd \\n  \\na \\n  \\ns \\ne \\np \\na \\nr \\na \\nt \\ne \\n  \\nF \\no \\nr \\nm \\n  \\nC \\n, \\n  \\nc \\no \\nn \\nt \\na \\ni \\nn \\ni \\nn \\ng \\n  \\nt \\nh \\ne \\n  \\np \\na \\nr \\nt \\ni \\nc \\nu \\nl \\na \\nr \\ns \\n  \\na \\nn \\nd \\n  \\nc \\no \\nn \\nt \\na \\nc \\nt \\n  \\nd \\ne \\nt \\na \\ni \\nl \\ns \\n  \\no \\nf \\n  \\nt \\nh \\ne \\n  \\n\\n \\nS \\nu \\nb \\ns \\nt \\na \\nn \\nt \\ni \\na \\nl \\n  \\nS \\nh \\na \\nr \\ne \\nh \\no \\nl \\nd \\ne \\nr \\n( \\ns \\n) \\n/ \\nU \\nn \\ni \\nt \\nh \\no \\nl \\nd \\ne \\nr \\n( \\ns \\n) \\n, \\n  \\nm \\nu \\ns \\nt \\n  \\nb \\ne \\n  \\nc \\no \\nm \\np \\nl \\ne \\nt \\ne \\nd \\n  \\nb \\ny \\n  \\nt \\nh \\ne \\n  \\nS \\nu \\nb \\ns \\nt \\na \\nn \\nt \\ni \\na \\nl \\n  \\nS \\nh \\na \\nr \\ne \\nh \\no \\nl \\nd \\ne \\nr \\n( \\ns \\n) \\n/ \\n\\n \\nU \\nn \\ni \\nt \\nh \\no \\nl \\nd \\ne \\nr \\n( \\ns \\n) \\n  \\no \\nr \\n  \\na \\n  \\np \\ne \\nr \\ns \\no \\nn \\n  \\nd \\nu \\nl \\ny \\n  \\na \\nu \\nt \\nh \\no \\nr \\ni \\ns \\ne \\nd \\n  \\nb \\ny \\n  \\nt \\nh \\ne \\n  \\nS \\nu \\nb \\ns \\nt \\na \\nn \\nt \\ni \\na \\nl \\n  \\nS \\nh \\na \\nr \\ne \\nh \\no \\nl \\nd \\ne \\nr \\n( \\ns \\n) \\n/ \\nU \\nn \\ni \\nt \\nh \\no \\nl \\nd \\ne \\nr \\n( \\ns \\n) \\n  \\nt \\no \\n  \\nd \\no \\n  \\ns \\no \\n. \\n  \\nT \\nh \\ne \\n  \\n\\n \\np \\ne \\nr \\ns \\no \\nn \\n  \\ns \\no \\n  \\na \\nu \\nt \\nh \\no \\nr \\ni \\ns \\ne \\nd \\n  \\ns \\nh \\no \\nu \\nl \\nd \\n  \\nm \\na \\ni \\nn \\nt \\na \\ni \\nn \\n  \\nr \\ne \\nc \\no \\nr \\nd \\ns \\n  \\no \\nf \\n  \\ni \\nn \\nf \\no \\nr \\nm \\na \\nt \\ni \\no \\nn \\n  \\nf \\nu \\nr \\nn \\ni \\ns \\nh \\ne \\nd \\n  \\nt \\no \\n  \\nh \\ni \\nm \\n  \\nb \\ny \\n  \\nt \\nh \\ne \\n  \\nS \\nu \\nb \\ns \\nt \\na \\nn \\nt \\ni \\na \\nl \\n  \\n\\n \\nS \\nh \\na \\nr \\ne \\nh \\no \\nl \\nd \\ne \\nr \\n( \\ns \\n) \\n/ \\nU \\nn \\ni \\nt \\nh \\no \\nl \\nd \\ne \\nr \\n( \\ns \\n) \\n. \\n  \\n  \\n\\n \\n  \\n  \\n\\n \\n4 \\n. \\n  \\n  \\n  \\nT \\nh \\ni \\ns \\n  \\nf \\no \\nr \\nm \\n  \\na \\nn \\nd \\n  \\nF \\no \\nr \\nm \\n  \\nC \\n, \\n  \\na \\nr \\ne \\n  \\nt \\no \\n  \\nb \\ne \\n  \\nc \\no \\nm \\np \\nl \\ne \\nt \\ne \\nd \\n  \\ne \\nl \\ne \\nc \\nt \\nr \\no \\nn \\ni \\nc \\na \\nl \\nl \\ny \\n  \\na \\nn \\nd \\n  \\ns \\ne \\nn \\nt \\n  \\nt \\no \\n  \\nt \\nh \\ne \\n  \\nL \\ni \\ns \\nt \\ne \\nd \\n  \\nI \\ns \\ns \\nu \\ne \\nr \\n  \\nv \\ni \\na \\n  \\na \\nn \\n  \\ne \\nl \\ne \\nc \\nt \\nr \\no \\nn \\ni \\nc \\n  \\n\\n \\nm \\ne \\nd \\ni \\nu \\nm \\n  \\ns \\nu \\nc \\nh \\n  \\na \\ns \\n  \\na \\nn \\n  \\ne \\n- \\nm \\na \\ni \\nl \\n  \\na \\nt \\nt \\na \\nc \\nh \\nm \\ne \\nn \\nt \\n. \\n  \\nT \\nh \\ne \\n  \\nL \\ni \\ns \\nt \\ne \\nd \\n  \\nI \\ns \\ns \\nu \\ne \\nr \\n  \\nw \\ni \\nl \\nl \\n  \\na \\nt \\nt \\na \\nc \\nh \\n  \\nb \\no \\nt \\nh \\n  \\nf \\no \\nr \\nm \\ns \\n  \\nt \\no \\n  \\nt \\nh \\ne \\n  \\np \\nr \\ne \\ns \\nc \\nr \\ni \\nb \\ne \\nd \\n  \\nS \\nG \\nX \\nN \\ne \\nt \\n  \\n\\n \\na \\nn \\nn \\no \\nu \\nn \\nc \\ne \\nm \\ne \\nn \\nt \\n  \\nt \\ne \\nm \\np \\nl \\na \\nt \\ne \\n  \\nf \\no \\nr \\n  \\nd \\ni \\ns \\ns \\ne \\nm \\ni \\nn \\na \\nt \\ni \\no \\nn \\n  \\na \\ns \\n  \\nr \\ne \\nq \\nu \\ni \\nr \\ne \\nd \\n  \\nu \\nn \\nd \\ne \\nr \\n  \\ns \\ne \\nc \\nt \\ni \\no \\nn \\n  \\n1 \\n3 \\n7 \\nG \\n( \\n1 \\n) \\n, \\n  \\n1 \\n3 \\n7 \\nR \\n( \\n1 \\n) \\n  \\no \\nr \\n  \\n1 \\n3 \\n7 \\nZ \\nC \\n( \\n1 \\n) \\n  \\no \\nf \\n  \\nt \\nh \\ne \\n  \\n\\n \\nS \\nF \\nA \\n, \\n  \\na \\ns \\n  \\nt \\nh \\ne \\n  \\nc \\na \\ns \\ne \\n  \\nm \\na \\ny \\n  \\nb \\ne \\n. \\n  \\nW \\nh \\ni \\nl \\ne \\n  \\nF \\no \\nr \\nm \\n  \\nC \\n  \\nw \\ni \\nl \\nl \\n  \\nb \\ne \\n  \\na \\nt \\nt \\na \\nc \\nh \\ne \\nd \\n  \\nt \\no \\n  \\nt \\nh \\ne \\n  \\na \\nn \\nn \\no \\nu \\nn \\nc \\ne \\nm \\ne \\nn \\nt \\n  \\nt \\ne \\nm \\np \\nl \\na \\nt \\ne \\n, \\n  \\ni \\nt \\n  \\nw \\ni \\nl \\nl \\n  \\nn \\no \\nt \\n  \\nb \\ne \\n  \\n\\n \\nd \\ni \\ns \\ns \\ne \\nm \\ni \\nn \\na \\nt \\ne \\nd \\n  \\nt \\no \\n  \\nt \\nh \\ne \\n  \\np \\nu \\nb \\nl \\ni \\nc \\n  \\na \\nn \\nd \\n  \\ni \\ns \\n  \\nm \\na \\nd \\ne \\n  \\na \\nv \\na \\ni \\nl \\na \\nb \\nl \\ne \\n  \\no \\nn \\nl \\ny \\n  \\nt \\no \\n  \\nt \\nh \\ne \\n  \\nM \\no \\nn \\ne \\nt \\na \\nr \\ny \\n  \\nA \\nu \\nt \\nh \\no \\nr \\ni \\nt \\ny \\n  \\no \\nf \\n  \\nS \\ni \\nn \\ng \\na \\np \\no \\nr \\ne \\n  \\n( \\nt \\nh \\ne \\n  \\n\\n \\n\" \\nA \\nu \\nt \\nh \\no \\nr \\ni \\nt \\ny \\n\" \\n) \\n. \\n  \\n  \\n\\n \\n  \\n  \\n\\n \\n5 \\n. \\n  \\n  \\nW \\nh \\ne \\nr \\ne \\n  \\na \\n  \\nt \\nr \\na \\nn \\ns \\na \\nc \\nt \\ni \\no \\nn \\n  \\nr \\ne \\ns \\nu \\nl \\nt \\ns \\n  \\ni \\nn \\n  \\ns \\ni \\nm \\ni \\nl \\na \\nr \\n  \\nn \\no \\nt \\ni \\nf \\ni \\na \\nb \\nl \\ne \\n  \\no \\nb \\nl \\ni \\ng \\na \\nt \\ni \\no \\nn \\ns \\n  \\no \\nn \\n  \\nt \\nh \\ne \\n  \\np \\na \\nr \\nt \\n  \\no \\nf \\n  \\nm \\no \\nr \\ne \\n  \\nt \\nh \\na \\nn \\n  \\no \\nn \\ne \\n  \\nS \\nu \\nb \\ns \\nt \\na \\nn \\nt \\ni \\na \\nl \\n  \\n\\n \\nS \\nh \\na \\nr \\ne \\nh \\no \\nl \\nd \\ne \\nr \\n/ \\nU \\nn \\ni \\nt \\nh \\no \\nl \\nd \\ne \\nr \\n, \\n  \\na \\nl \\nl \\n  \\no \\nf \\n  \\nt \\nh \\ne \\ns \\ne \\n  \\nS \\nu \\nb \\ns \\nt \\na \\nn \\nt \\ni \\na \\nl \\n  \\nS \\nh \\na \\nr \\ne \\nh \\no \\nl \\nd \\ne \\nr \\ns \\n/ \\nU \\nn \\ni \\nt \\nh \\no \\nl \\nd \\ne \\nr \\ns \\n  \\nm \\na \\ny \\n  \\ng \\ni \\nv \\ne \\n  \\nn \\no \\nt \\ni \\nc \\ne \\n  \\nu \\ns \\ni \\nn \\ng \\n  \\nt \\nh \\ne \\n  \\ns \\na \\nm \\ne \\n  \\n\\n \\nn \\no \\nt \\ni \\nf \\ni \\nc \\na \\nt \\ni \\no \\nn \\n  \\nf \\no \\nr \\nm \\n. \\n  \\n  \\n\\n \\n  \\n  \\n\\n \\n6 \\n. \\n  \\n  \\n  \\n  \\nA \\n  \\ns \\ni \\nn \\ng \\nl \\ne \\n  \\nf \\no \\nr \\nm \\n  \\nm \\na \\ny \\n  \\nb \\ne \\n  \\nu \\ns \\ne \\nd \\n  \\nb \\ny \\n  \\na \\n  \\nS \\nu \\nb \\ns \\nt \\na \\nn \\nt \\ni \\na \\nl \\n  \\nS \\nh \\na \\nr \\ne \\nh \\no \\nl \\nd \\ne \\nr \\n/ \\nU \\nn \\ni \\nt \\nh \\no \\nl \\nd \\ne \\nr \\n  \\nf \\no \\nr \\n  \\nm \\no \\nr \\ne \\n  \\nt \\nh \\na \\nn \\n  \\no \\nn \\ne \\n  \\nt \\nr \\na \\nn \\ns \\na \\nc \\nt \\ni \\no \\nn \\n  \\nr \\ne \\ns \\nu \\nl \\nt \\ni \\nn \\ng \\n  \\n\\n \\ni \\nn \\n  \\nn \\no \\nt \\ni \\nf \\ni \\na \\nb \\nl \\ne \\n  \\no \\nb \\nl \\ni \\ng \\na \\nt \\ni \\no \\nn \\ns \\n  \\nw \\nh \\ni \\nc \\nh \\n  \\no \\nc \\nc \\nu \\nr \\n  \\nw \\ni \\nt \\nh \\ni \\nn \\n  \\nt \\nh \\ne \\n  \\ns \\na \\nm \\ne \\n  \\nn \\no \\nt \\ni \\nf \\ni \\na \\nb \\nl \\ne \\n  \\np \\ne \\nr \\ni \\no \\nd \\n  \\n( \\ni \\n. \\ne \\n. \\n  \\nw \\ni \\nt \\nh \\ni \\nn \\n  \\nt \\nw \\no \\n  \\nb \\nu \\ns \\ni \\nn \\ne \\ns \\ns \\n  \\nd \\na \\ny \\ns \\n  \\no \\nf \\n  \\n\\n \\nb \\ne \\nc \\no \\nm \\ni \\nn \\ng \\n  \\na \\nw \\na \\nr \\ne \\n  \\no \\nf \\n  \\nt \\nh \\ne \\n  \\ne \\na \\nr \\nl \\ni \\ne \\ns \\nt \\n  \\nt \\nr \\na \\nn \\ns \\na \\nc \\nt \\ni \\no \\nn \\n) \\n. \\n  \\nT \\nh \\ne \\nr \\ne \\n  \\nm \\nu \\ns \\nt \\n  \\nb \\ne \\n  \\nn \\no \\n  \\nn \\ne \\nt \\nt \\ni \\nn \\ng \\n- \\no \\nf \\nf \\n  \\no \\nf \\n  \\nt \\nw \\no \\n  \\no \\nr \\n  \\nm \\no \\nr \\ne \\n  \\nn \\no \\nt \\ni \\nf \\ni \\na \\nb \\nl \\ne \\n  \\n\\n \\nt \\nr \\na \\nn \\ns \\na \\nc \\nt \\ni \\no \\nn \\ns \\n  \\ne \\nv \\ne \\nn \\n  \\ni \\nf \\n  \\nt \\nh \\ne \\ny \\n  \\no \\nc \\nc \\nu \\nr \\n  \\nw \\ni \\nt \\nh \\ni \\nn \\n  \\nt \\nh \\ne \\n  \\ns \\na \\nm \\ne \\n  \\nd \\na \\ny \\n. \\n  \\n  \\n\\n \\n  \\n  \\n\\n \\n7 \\n. \\n  \\n  \\nA \\nl \\nl \\n  \\na \\np \\np \\nl \\ni \\nc \\na \\nb \\nl \\ne \\n  \\np \\na \\nr \\nt \\ns \\n  \\no \\nf \\n  \\nt \\nh \\ne \\n  \\nn \\no \\nt \\ni \\nf \\ni \\nc \\na \\nt \\ni \\no \\nn \\n  \\nf \\no \\nr \\nm \\n  \\nm \\nu \\ns \\nt \\n  \\nb \\ne \\n  \\nc \\no \\nm \\np \\nl \\ne \\nt \\ne \\nd \\n. \\n  \\nI \\nf \\n  \\nt \\nh \\ne \\nr \\ne \\n  \\ni \\ns \\n  \\ni \\nn \\ns \\nu \\nf \\nf \\ni \\nc \\ni \\ne \\nn \\nt \\n  \\ns \\np \\na \\nc \\ne \\n  \\nf \\no \\nr \\n  \\ny \\no \\nu \\nr \\n  \\n\\n \\na \\nn \\ns \\nw \\ne \\nr \\ns \\n, \\n  \\np \\nl \\ne \\na \\ns \\ne \\n  \\ni \\nn \\nc \\nl \\nu \\nd \\ne \\n  \\na \\nt \\nt \\na \\nc \\nh \\nm \\ne \\nn \\nt \\n( \\ns \\n) \\n  \\nb \\ny \\n  \\nc \\nl \\ni \\nc \\nk \\ni \\nn \\ng \\n  \\nt \\nh \\ne \\n  \\np \\na \\np \\ne \\nr \\n  \\nc \\nl \\ni \\np \\n  \\ni \\nc \\no \\nn \\n  \\no \\nn \\n  \\nt \\nh \\ne \\n  \\nb \\no \\nt \\nt \\no \\nm \\n  \\nl \\ne \\nf \\nt \\n- \\nh \\na \\nn \\nd \\n  \\nc \\no \\nr \\nn \\ne \\nr \\n  \\no \\nr \\n  \\ni \\nn \\n  \\n\\n \\ni \\nt \\ne \\nm \\n  \\n1 \\n1 \\n  \\no \\nf \\n  \\nP \\na \\nr \\nt \\n  \\nI \\nI \\n  \\no \\nr \\n  \\ni \\nt \\ne \\nm \\n  \\n1 \\n0 \\n  \\no \\nf \\n  \\nP \\na \\nr \\nt \\n  \\nI \\nI \\nI \\n. \\n  \\nT \\nh \\ne \\n  \\nt \\no \\nt \\na \\nl \\n  \\nf \\ni \\nl \\ne \\n  \\ns \\ni \\nz \\ne \\n  \\nf \\no \\nr \\n  \\na \\nl \\nl \\n  \\na \\nt \\nt \\na \\nc \\nh \\nm \\ne \\nn \\nt \\n( \\ns \\n) \\n  \\ns \\nh \\no \\nu \\nl \\nd \\n  \\nn \\no \\nt \\n  \\ne \\nx \\nc \\ne \\ne \\nd \\n  \\n1 \\nM \\nB \\n. \\n  \\n\\n \\n  \\n  \\n\\n \\n8 \\n. \\n  \\n  \\n  \\nE \\nx \\nc \\ne \\np \\nt \\n  \\nf \\no \\nr \\n  \\ni \\nt \\ne \\nm \\n  \\n5 \\n  \\no \\nf \\n  \\nP \\na \\nr \\nt \\n  \\nI \\nI \\n  \\na \\nn \\nd \\n  \\ni \\nt \\ne \\nm \\n  \\n1 \\n  \\no \\nf \\n  \\nP \\na \\nr \\nt \\n  \\nI \\nV \\n, \\n  \\np \\nl \\ne \\na \\ns \\ne \\n  \\ns \\ne \\nl \\ne \\nc \\nt \\n  \\no \\nn \\nl \\ny \\n  \\no \\nn \\ne \\n  \\no \\np \\nt \\ni \\no \\nn \\n  \\nf \\nr \\no \\nm \\n  \\nt \\nh \\ne \\n  \\nr \\ne \\nl \\ne \\nv \\na \\nn \\nt \\n  \\nc \\nh \\ne \\nc \\nk \\n  \\n\\n \\nb \\no \\nx \\ne \\ns \\n. \\n  \\n  \\n\\n \\n  \\n  \\n\\n \\n9 \\n. \\n  \\n  \\n  \\n  \\nP \\nl \\ne \\na \\ns \\ne \\n  \\nn \\no \\nt \\ne \\n  \\nt \\nh \\na \\nt \\n  \\ns \\nu \\nb \\nm \\ni \\ns \\ns \\ni \\no \\nn \\n  \\no \\nf \\n  \\na \\nn \\ny \\n  \\nf \\na \\nl \\ns \\ne \\n  \\no \\nr \\n  \\nm \\ni \\ns \\nl \\ne \\na \\nd \\ni \\nn \\ng \\n  \\ni \\nn \\nf \\no \\nr \\nm \\na \\nt \\ni \\no \\nn \\n  \\ni \\ns \\n  \\na \\nn \\n  \\no \\nf \\nf \\ne \\nn \\nc \\ne \\n  \\nu \\nn \\nd \\ne \\nr \\n  \\nP \\na \\nr \\nt \\n  \\nV \\nI \\nI \\n  \\no \\nf \\n  \\nt \\nh \\ne \\n  \\nS \\nF \\nA \\n. \\n  \\n\\n \\n  \\n  \\n\\n \\n1 \\n0 \\n. \\n  \\n  \\nI \\nn \\n  \\nt \\nh \\ni \\ns \\n  \\nf \\no \\nr \\nm \\n, \\n  \\nt \\nh \\ne \\n  \\nt \\ne \\nr \\nm \\n  \\n\" \\nL \\ni \\ns \\nt \\ne \\nd \\n  \\nI \\ns \\ns \\nu \\ne \\nr \\n\" \\n  \\nr \\ne \\nf \\ne \\nr \\ns \\n  \\nt \\no \\n  \\n  \\n- \\n  \\n  \\n\\n \\n  \\n  \\n\\n \\n  \\n  \\n  \\n  \\n  \\n  \\n  \\n( \\na \\n) \\n  \\n  \\n  \\n  \\n  \\na \\n  \\nc \\no \\nm \\np \\na \\nn \\ny \\n  \\ni \\nn \\nc \\no \\nr \\np \\no \\nr \\na \\nt \\ne \\nd \\n  \\ni \\nn \\n  \\nS \\ni \\nn \\ng \\na \\np \\no \\nr \\ne \\n  \\na \\nn \\ny \\n  \\no \\nr \\n  \\na \\nl \\nl \\n  \\no \\nf \\n  \\nt \\nh \\ne \\n  \\ns \\nh \\na \\nr \\ne \\ns \\n  \\ni \\nn \\n  \\nw \\nh \\ni \\nc \\nh \\n  \\na \\nr \\ne \\n  \\nl \\ni \\ns \\nt \\ne \\nd \\n  \\nf \\no \\nr \\n  \\nq \\nu \\no \\nt \\na \\nt \\ni \\no \\nn \\n  \\no \\nn \\n  \\nt \\nh \\ne \\n  \\n  \\n\\n \\n  \\n  \\n  \\n  \\n  \\n  \\n  \\n  \\n  \\n  \\n  \\n  \\n  \\n  \\n  \\n  \\no \\nf \\nf \\ni \\nc \\ni \\na \\nl \\n  \\nl \\ni \\ns \\nt \\n  \\no \\nf \\n  \\na \\n  \\ns \\ne \\nc \\nu \\nr \\ni \\nt \\ni \\ne \\ns \\n  \\ne \\nx \\nc \\nh \\na \\nn \\ng \\ne \\n; \\n  \\n  \\n\\n \\n  \\n  \\n\\n \\n  \\n  \\n  \\n  \\n  \\n  \\n  \\n( \\nb \\n) \\n  \\n  \\n  \\n  \\n  \\na \\n  \\nc \\no \\nr \\np \\no \\nr \\na \\nt \\ni \\no \\nn \\n  \\n( \\nn \\no \\nt \\n  \\nb \\ne \\ni \\nn \\ng \\n  \\na \\n  \\nc \\no \\nm \\np \\na \\nn \\ny \\n  \\ni \\nn \\nc \\no \\nr \\np \\no \\nr \\na \\nt \\ne \\nd \\n  \\ni \\nn \\n  \\nS \\ni \\nn \\ng \\na \\np \\no \\nr \\ne \\n, \\n  \\no \\nr \\n  \\na \\n  \\nc \\no \\nl \\nl \\ne \\nc \\nt \\ni \\nv \\ne \\n  \\ni \\nn \\nv \\ne \\ns \\nt \\nm \\ne \\nn \\nt \\n  \\ns \\nc \\nh \\ne \\nm \\ne \\n  \\n  \\n\\n \\n  \\n  \\n  \\n  \\n  \\n  \\n  \\n  \\n  \\n  \\n  \\n  \\n  \\n  \\n  \\n  \\nc \\no \\nn \\ns \\nt \\ni \\nt \\nu \\nt \\ne \\nd \\n  \\na \\ns \\n  \\na \\n  \\nc \\no \\nr \\np \\no \\nr \\na \\nt \\ni \\no \\nn \\n) \\n  \\na \\nn \\ny \\n  \\no \\nr \\n  \\na \\nl \\nl \\n  \\no \\nf \\n  \\nt \\nh \\ne \\n  \\ns \\nh \\na \\nr \\ne \\ns \\n  \\ni \\nn \\n  \\nw \\nh \\ni \\nc \\nh \\n  \\na \\nr \\ne \\n  \\nl \\ni \\ns \\nt \\ne \\nd \\n  \\nf \\no \\nr \\n  \\nq \\nu \\no \\nt \\na \\nt \\ni \\no \\nn \\n  \\no \\nn \\n  \\nt \\nh \\ne \\n  \\no \\nf \\nf \\ni \\nc \\ni \\na \\nl \\n  \\nl \\ni \\ns \\nt \\n\\n \\n  \\n  \\n  \\n  \\n  \\n  \\n  \\n  \\n  \\n  \\n  \\n  \\n  \\n  \\n  \\n  \\no \\nf \\n  \\na \\n  \\ns \\ne \\nc \\nu \\nr \\ni \\nt \\ni \\ne \\ns \\n  \\ne \\nx \\nc \\nh \\na \\nn \\ng \\ne \\n, \\ns \\nu \\nc \\nh \\n  \\nl \\ni \\ns \\nt \\ni \\nn \\ng \\n  \\nb \\ne \\ni \\nn \\ng \\n  \\na \\n  \\np \\nr \\ni \\nm \\na \\nr \\ny \\n  \\nl \\ni \\ns \\nt \\ni \\nn \\ng \\n; \\n  \\n  \\n\\n \\n  \\n  \\n  \\n  \\n\\n \\n  \\n\\n \\n  \\nE \\nx \\np \\nl \\na \\nn \\na \\nt \\no \\nr \\ny \\n  \\nN \\no \\nt \\ne \\ns \\n\\n \\nS \\nE \\nC \\nU \\nR \\nI \\nT \\nI \\nE \\nS \\n  \\nA \\nN \\nD \\n  \\nF \\nU \\nT \\nU \\nR \\nE \\nS \\n  \\nA \\nC \\nT \\n  \\n( \\nC \\nA \\nP \\n. \\n  \\n2 \\n8 \\n9 \\n) \\n  \\n\\n \\nS \\nE \\nC \\nU \\nR \\nI \\nT \\nI \\nE \\nS \\n  \\nA \\nN \\nD \\n  \\nF \\nU \\nT \\nU \\nR \\nE \\nS \\n  \\n( \\nD \\nI \\nS \\nC \\nL \\nO \\nS \\nU \\nR \\nE \\n  \\nO \\nF \\n  \\nI \\nN \\nT \\nE \\nR \\nE \\nS \\nT \\nS \\n) \\n  \\n\\n \\nR \\nE \\nG \\nU \\nL \\nA \\nT \\nI \\nO \\nN \\nS \\n  \\n2 \\n0 \\n1 \\n2 \\n  \\n\\n \\n  \\n  \\n\\n \\nN \\nO \\nT \\nI \\nF \\nI \\nC \\nA \\nT \\nI \\nO \\nN \\n  \\nF \\nO \\nR \\nM \\n  \\nF \\nO \\nR \\n  \\nS \\nU \\nB \\nS \\nT \\nA \\nN \\nT \\nI \\nA \\nL \\n  \\nS \\nH \\nA \\nR \\nE \\nH \\nO \\nL \\nD \\nE \\nR \\n( \\nS \\n) \\n/ \\n\\n \\nU \\nN \\nI \\nT \\nH \\nO \\nL \\nD \\nE \\nR \\n( \\nS \\n) \\n  \\nI \\nN \\n  \\nR \\nE \\nS \\nP \\nE \\nC \\nT \\n  \\nO \\nF \\n  \\nI \\nN \\nT \\nE \\nR \\nE \\nS \\nT \\nS \\n  \\nI \\nN \\n  \\nS \\nE \\nC \\nU \\nR \\nI \\nT \\nI \\nE \\nS \\n  \\n  \\n\\n \\n\\n \\nF \\nO \\nR \\nM \\n  \\n\\n \\n3 \\n  \\n\\n \\n( \\nE \\nl \\ne \\nc \\nt \\nr \\no \\nn \\ni \\nc \\n  \\nF \\no \\nr \\nm \\na \\nt \\n)'"
      ]
     },
     "execution_count": 7,
     "metadata": {},
     "output_type": "execute_result"
    }
   ],
   "source": [
    "txt"
   ]
  },
  {
   "cell_type": "code",
   "execution_count": null,
   "metadata": {},
   "outputs": [],
   "source": []
  }
 ],
 "metadata": {
  "kernelspec": {
   "display_name": "Python 3",
   "language": "python",
   "name": "python3"
  },
  "language_info": {
   "codemirror_mode": {
    "name": "ipython",
    "version": 3
   },
   "file_extension": ".py",
   "mimetype": "text/x-python",
   "name": "python",
   "nbconvert_exporter": "python",
   "pygments_lexer": "ipython3",
   "version": "3.8.3"
  }
 },
 "nbformat": 4,
 "nbformat_minor": 4
}
