{
 "cells": [
  {
   "cell_type": "code",
   "execution_count": 1,
   "metadata": {},
   "outputs": [
    {
     "name": "stdout",
     "output_type": "stream",
     "text": [
      "Requirement already satisfied: PyPDF2 in /Users/sampathroutu/opt/anaconda3/lib/python3.8/site-packages (2.3.1)\n",
      "Requirement already satisfied: typing-extensions in /Users/sampathroutu/opt/anaconda3/lib/python3.8/site-packages (from PyPDF2) (3.10.0.2)\n",
      "\u001b[33mWARNING: You are using pip version 22.0.4; however, version 22.2.1 is available.\n",
      "You should consider upgrading via the '/Users/sampathroutu/opt/anaconda3/bin/python -m pip install --upgrade pip' command.\u001b[0m\u001b[33m\n",
      "\u001b[0m"
     ]
    }
   ],
   "source": [
    "!pip install PyPDF2"
   ]
  },
  {
   "cell_type": "code",
   "execution_count": 1,
   "metadata": {},
   "outputs": [],
   "source": [
    "import os\n",
    "import PyPDF2\n",
    "import shutil"
   ]
  },
  {
   "cell_type": "code",
   "execution_count": 2,
   "metadata": {},
   "outputs": [],
   "source": [
    "def get_all_pdfs(directory):\n",
    "    return os.listdir(directory)\n",
    "\n",
    "def explore_pdf(link):\n",
    "    pdfFileObj = open('./aem/'+link, 'rb')\n",
    "    try:\n",
    "        pdfReader = PyPDF2.PdfFileReader(pdfFileObj)\n",
    "        pageObj = pdfReader.getPage(0)\n",
    "    except:\n",
    "        os.remove('./aem/'+link)"
   ]
  },
  {
   "cell_type": "code",
   "execution_count": 3,
   "metadata": {},
   "outputs": [
    {
     "name": "stderr",
     "output_type": "stream",
     "text": [
      "/Users/sampathroutu/opt/anaconda3/lib/python3.8/site-packages/PyPDF2/_reader.py:1105: PdfReadWarning: Superfluous whitespace found in object header b'1' b'0'\n",
      "  warnings.warn(\n",
      "/Users/sampathroutu/opt/anaconda3/lib/python3.8/site-packages/PyPDF2/_reader.py:1105: PdfReadWarning: Superfluous whitespace found in object header b'2' b'0'\n",
      "  warnings.warn(\n",
      "/Users/sampathroutu/opt/anaconda3/lib/python3.8/site-packages/PyPDF2/_reader.py:1105: PdfReadWarning: Superfluous whitespace found in object header b'3' b'0'\n",
      "  warnings.warn(\n",
      "/Users/sampathroutu/opt/anaconda3/lib/python3.8/site-packages/PyPDF2/_reader.py:1317: PdfReadWarning: Xref table not zero-indexed. ID numbers for objects will be corrected.\n",
      "  warnings.warn(\n",
      "/Users/sampathroutu/opt/anaconda3/lib/python3.8/site-packages/PyPDF2/_reader.py:1105: PdfReadWarning: Superfluous whitespace found in object header b'23' b'0'\n",
      "  warnings.warn(\n",
      "/Users/sampathroutu/opt/anaconda3/lib/python3.8/site-packages/PyPDF2/_reader.py:1105: PdfReadWarning: Superfluous whitespace found in object header b'26' b'0'\n",
      "  warnings.warn(\n",
      "/Users/sampathroutu/opt/anaconda3/lib/python3.8/site-packages/PyPDF2/_reader.py:1105: PdfReadWarning: Superfluous whitespace found in object header b'37' b'0'\n",
      "  warnings.warn(\n",
      "/Users/sampathroutu/opt/anaconda3/lib/python3.8/site-packages/PyPDF2/_reader.py:1105: PdfReadWarning: Superfluous whitespace found in object header b'48' b'0'\n",
      "  warnings.warn(\n",
      "/Users/sampathroutu/opt/anaconda3/lib/python3.8/site-packages/PyPDF2/_reader.py:1105: PdfReadWarning: Superfluous whitespace found in object header b'51' b'0'\n",
      "  warnings.warn(\n",
      "/Users/sampathroutu/opt/anaconda3/lib/python3.8/site-packages/PyPDF2/_reader.py:1105: PdfReadWarning: Superfluous whitespace found in object header b'62' b'0'\n",
      "  warnings.warn(\n",
      "/Users/sampathroutu/opt/anaconda3/lib/python3.8/site-packages/PyPDF2/_reader.py:1105: PdfReadWarning: Superfluous whitespace found in object header b'65' b'0'\n",
      "  warnings.warn(\n",
      "/Users/sampathroutu/opt/anaconda3/lib/python3.8/site-packages/PyPDF2/_reader.py:1105: PdfReadWarning: Superfluous whitespace found in object header b'68' b'0'\n",
      "  warnings.warn(\n",
      "/Users/sampathroutu/opt/anaconda3/lib/python3.8/site-packages/PyPDF2/_reader.py:1105: PdfReadWarning: Superfluous whitespace found in object header b'71' b'0'\n",
      "  warnings.warn(\n",
      "/Users/sampathroutu/opt/anaconda3/lib/python3.8/site-packages/PyPDF2/_reader.py:1105: PdfReadWarning: Superfluous whitespace found in object header b'74' b'0'\n",
      "  warnings.warn(\n",
      "/Users/sampathroutu/opt/anaconda3/lib/python3.8/site-packages/PyPDF2/_reader.py:1105: PdfReadWarning: Superfluous whitespace found in object header b'77' b'0'\n",
      "  warnings.warn(\n",
      "/Users/sampathroutu/opt/anaconda3/lib/python3.8/site-packages/PyPDF2/_reader.py:1105: PdfReadWarning: Superfluous whitespace found in object header b'80' b'0'\n",
      "  warnings.warn(\n",
      "/Users/sampathroutu/opt/anaconda3/lib/python3.8/site-packages/PyPDF2/_reader.py:1105: PdfReadWarning: Superfluous whitespace found in object header b'83' b'0'\n",
      "  warnings.warn(\n",
      "/Users/sampathroutu/opt/anaconda3/lib/python3.8/site-packages/PyPDF2/_reader.py:1105: PdfReadWarning: Superfluous whitespace found in object header b'86' b'0'\n",
      "  warnings.warn(\n",
      "/Users/sampathroutu/opt/anaconda3/lib/python3.8/site-packages/PyPDF2/_reader.py:1105: PdfReadWarning: Superfluous whitespace found in object header b'89' b'0'\n",
      "  warnings.warn(\n",
      "/Users/sampathroutu/opt/anaconda3/lib/python3.8/site-packages/PyPDF2/_reader.py:1105: PdfReadWarning: Superfluous whitespace found in object header b'92' b'0'\n",
      "  warnings.warn(\n",
      "/Users/sampathroutu/opt/anaconda3/lib/python3.8/site-packages/PyPDF2/_reader.py:1105: PdfReadWarning: Superfluous whitespace found in object header b'95' b'0'\n",
      "  warnings.warn(\n",
      "/Users/sampathroutu/opt/anaconda3/lib/python3.8/site-packages/PyPDF2/_reader.py:1105: PdfReadWarning: Superfluous whitespace found in object header b'98' b'0'\n",
      "  warnings.warn(\n",
      "/Users/sampathroutu/opt/anaconda3/lib/python3.8/site-packages/PyPDF2/_reader.py:1105: PdfReadWarning: Superfluous whitespace found in object header b'101' b'0'\n",
      "  warnings.warn(\n",
      "/Users/sampathroutu/opt/anaconda3/lib/python3.8/site-packages/PyPDF2/_reader.py:1105: PdfReadWarning: Superfluous whitespace found in object header b'104' b'0'\n",
      "  warnings.warn(\n",
      "/Users/sampathroutu/opt/anaconda3/lib/python3.8/site-packages/PyPDF2/_reader.py:1105: PdfReadWarning: Superfluous whitespace found in object header b'47' b'0'\n",
      "  warnings.warn(\n",
      "/Users/sampathroutu/opt/anaconda3/lib/python3.8/site-packages/PyPDF2/_reader.py:1105: PdfReadWarning: Superfluous whitespace found in object header b'50' b'0'\n",
      "  warnings.warn(\n",
      "/Users/sampathroutu/opt/anaconda3/lib/python3.8/site-packages/PyPDF2/_reader.py:1105: PdfReadWarning: Superfluous whitespace found in object header b'53' b'0'\n",
      "  warnings.warn(\n",
      "/Users/sampathroutu/opt/anaconda3/lib/python3.8/site-packages/PyPDF2/_reader.py:1105: PdfReadWarning: Superfluous whitespace found in object header b'72' b'0'\n",
      "  warnings.warn(\n"
     ]
    }
   ],
   "source": [
    "pdf_links = get_all_pdfs(\"./aem/\")\n",
    "\n",
    "for link in pdf_links:\n",
    "    explore_pdf(link)"
   ]
  },
  {
   "cell_type": "code",
   "execution_count": null,
   "metadata": {},
   "outputs": [],
   "source": []
  }
 ],
 "metadata": {
  "kernelspec": {
   "display_name": "Python 3",
   "language": "python",
   "name": "python3"
  },
  "language_info": {
   "codemirror_mode": {
    "name": "ipython",
    "version": 3
   },
   "file_extension": ".py",
   "mimetype": "text/x-python",
   "name": "python",
   "nbconvert_exporter": "python",
   "pygments_lexer": "ipython3",
   "version": "3.8.3"
  }
 },
 "nbformat": 4,
 "nbformat_minor": 4
}
