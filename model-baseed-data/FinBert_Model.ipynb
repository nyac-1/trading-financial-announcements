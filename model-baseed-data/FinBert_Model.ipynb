{
 "cells": [
  {
   "cell_type": "code",
   "execution_count": 1,
   "metadata": {},
   "outputs": [],
   "source": [
    "from PyPDF2 import PdfReader\n",
    "import pandas as pd\n",
    "import glob\n",
    "\n",
    "dir = '../data/aem/'\n",
    "pdfs = glob.glob(dir+'/*.pdf')"
   ]
  },
  {
   "cell_type": "code",
   "execution_count": 2,
   "metadata": {},
   "outputs": [],
   "source": [
    "df = pd.read_csv(\"../data/text.csv\")"
   ]
  },
  {
   "cell_type": "code",
   "execution_count": 3,
   "metadata": {},
   "outputs": [],
   "source": [
    "from transformers import BertTokenizer, BertForSequenceClassification\n",
    "import torch\n",
    "from transformers import pipeline\n",
    "\n",
    "finbert = BertForSequenceClassification.from_pretrained('yiyanghkust/finbert-tone',num_labels=3)\n",
    "tokenizer = BertTokenizer.from_pretrained('yiyanghkust/finbert-tone')\n",
    "nlp = pipeline(\"sentiment-analysis\", model=finbert, tokenizer=tokenizer)\n",
    "\n",
    "label_list=['neutral','positive','negative']"
   ]
  },
  {
   "cell_type": "code",
   "execution_count": null,
   "metadata": {},
   "outputs": [
    {
     "name": "stdout",
     "output_type": "stream",
     "text": [
      "0\n",
      "10\n",
      "20\n"
     ]
    }
   ],
   "source": [
    "sentLs=[]\n",
    "for i,pdf in enumerate(pdfs):\n",
    "    reader = PdfReader(pdf)\n",
    "    sentSum=0\n",
    "    \n",
    "    for page in reader.pages:\n",
    "        try:\n",
    "            txt= ''.join(page.extract_text().strip()).replace(\" \\n\",\"\")\n",
    "        except:\n",
    "            txt= \"\"\n",
    "            \n",
    "        inputs = tokenizer(txt, return_tensors=\"pt\",max_length=512,truncation=True)\n",
    "        outputs = finbert(**inputs)\n",
    "        sent=torch.argmax(outputs[0])\n",
    "        if sent==1: sentSum+=1\n",
    "        elif sent==2: sentSum-=1\n",
    "\n",
    "    sentLs.append(sentSum)\n",
    "    if(i%10 == 0):\n",
    "        print(i)"
   ]
  },
  {
   "cell_type": "code",
   "execution_count": null,
   "metadata": {},
   "outputs": [],
   "source": []
  }
 ],
 "metadata": {
  "kernelspec": {
   "display_name": "Python 3",
   "language": "python",
   "name": "python3"
  },
  "language_info": {
   "codemirror_mode": {
    "name": "ipython",
    "version": 3
   },
   "file_extension": ".py",
   "mimetype": "text/x-python",
   "name": "python",
   "nbconvert_exporter": "python",
   "pygments_lexer": "ipython3",
   "version": "3.8.3"
  }
 },
 "nbformat": 4,
 "nbformat_minor": 4
}
