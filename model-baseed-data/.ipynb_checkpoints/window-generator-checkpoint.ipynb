{
 "cells": [
  {
   "cell_type": "code",
   "execution_count": 1,
   "metadata": {},
   "outputs": [],
   "source": [
    "import pandas as pd\n",
    "import numpy as np\n",
    "import moment\n",
    "from datetime import datetime"
   ]
  },
  {
   "cell_type": "code",
   "execution_count": 2,
   "metadata": {},
   "outputs": [],
   "source": [
    "stock_price = pd.read_csv(\"data.csv\")\n",
    "df = pd.read_csv(\"latest-export.csv\")"
   ]
  },
  {
   "cell_type": "code",
   "execution_count": 3,
   "metadata": {},
   "outputs": [
    {
     "data": {
      "text/html": [
       "<div>\n",
       "<style scoped>\n",
       "    .dataframe tbody tr th:only-of-type {\n",
       "        vertical-align: middle;\n",
       "    }\n",
       "\n",
       "    .dataframe tbody tr th {\n",
       "        vertical-align: top;\n",
       "    }\n",
       "\n",
       "    .dataframe thead th {\n",
       "        text-align: right;\n",
       "    }\n",
       "</style>\n",
       "<table border=\"1\" class=\"dataframe\">\n",
       "  <thead>\n",
       "    <tr style=\"text-align: right;\">\n",
       "      <th></th>\n",
       "      <th>name</th>\n",
       "      <th>sent</th>\n",
       "      <th>text</th>\n",
       "      <th>dates</th>\n",
       "    </tr>\n",
       "  </thead>\n",
       "  <tbody>\n",
       "    <tr>\n",
       "      <th>0</th>\n",
       "      <td>25-Jul-2022 76 2.pdf</td>\n",
       "      <td>0</td>\n",
       "      <td>export xml please read explanatory notes caref...</td>\n",
       "      <td>25-Jul-2022</td>\n",
       "    </tr>\n",
       "    <tr>\n",
       "      <th>1</th>\n",
       "      <td>06-Jul-2022 37 2.pdf</td>\n",
       "      <td>0</td>\n",
       "      <td>export xml please read explanatory notes caref...</td>\n",
       "      <td>06-Jul-2022</td>\n",
       "    </tr>\n",
       "    <tr>\n",
       "      <th>2</th>\n",
       "      <td>23-Jun-2022 80 2.pdf</td>\n",
       "      <td>0</td>\n",
       "      <td>export xml please read explanatory notes caref...</td>\n",
       "      <td>23-Jun-2022</td>\n",
       "    </tr>\n",
       "    <tr>\n",
       "      <th>3</th>\n",
       "      <td>16-Jun-2022 10 1.pdf</td>\n",
       "      <td>2</td>\n",
       "      <td>aem create additional jobs expansion singapore...</td>\n",
       "      <td>16-Jun-2022</td>\n",
       "    </tr>\n",
       "    <tr>\n",
       "      <th>4</th>\n",
       "      <td>13-Jun-2022 63 2.pdf</td>\n",
       "      <td>0</td>\n",
       "      <td>export xml please read explanatory notes caref...</td>\n",
       "      <td>13-Jun-2022</td>\n",
       "    </tr>\n",
       "  </tbody>\n",
       "</table>\n",
       "</div>"
      ],
      "text/plain": [
       "                   name  sent  \\\n",
       "0  25-Jul-2022 76 2.pdf     0   \n",
       "1  06-Jul-2022 37 2.pdf     0   \n",
       "2  23-Jun-2022 80 2.pdf     0   \n",
       "3  16-Jun-2022 10 1.pdf     2   \n",
       "4  13-Jun-2022 63 2.pdf     0   \n",
       "\n",
       "                                                text        dates  \n",
       "0  export xml please read explanatory notes caref...  25-Jul-2022  \n",
       "1  export xml please read explanatory notes caref...  06-Jul-2022  \n",
       "2  export xml please read explanatory notes caref...  23-Jun-2022  \n",
       "3  aem create additional jobs expansion singapore...  16-Jun-2022  \n",
       "4  export xml please read explanatory notes caref...  13-Jun-2022  "
      ]
     },
     "execution_count": 3,
     "metadata": {},
     "output_type": "execute_result"
    }
   ],
   "source": [
    "df.head()"
   ]
  },
  {
   "cell_type": "code",
   "execution_count": 4,
   "metadata": {},
   "outputs": [],
   "source": [
    "###get tradable days\n",
    "trading_days = list()\n",
    "\n",
    "for i in range(stock_price.shape[0]):\n",
    "    item = list(stock_price.loc[i,['Date', 'Close']].array)\n",
    "    trading_days.append(item)"
   ]
  },
  {
   "cell_type": "code",
   "execution_count": 10,
   "metadata": {},
   "outputs": [],
   "source": [
    "def gen_train_window(date):\n",
    "    global trading_days\n",
    "    date_instance = moment.date(date)\n",
    "    for i,date in enumerate(trading_days):\n",
    "        diff = date_instance - moment.date(date[0])\n",
    "\n",
    "        if(diff.days > -3 and diff.days <= 0):\n",
    "            break\n",
    "    try:\n",
    "        return trading_days[i-30:i]\n",
    "    except:\n",
    "        print(\"error\")\n",
    "        \n",
    "def get_test_window(date):\n",
    "    global trading_days\n",
    "    date_instance = moment.date(date)\n",
    "    for i,date in enumerate(trading_days):\n",
    "        diff = date_instance - moment.date(date[0])\n",
    "\n",
    "        if(diff.days > -3 and diff.days <= 0):\n",
    "            break\n",
    "    try:\n",
    "        return trading_days[i:i+30]\n",
    "    except:\n",
    "        print(\"error\")\n",
    "\n",
    "def get_percentage_return(arr):\n",
    "    return_value = arr[-1] - arr[0]\n",
    "    return_value/=arr[0]\n",
    "    return_value*=100\n",
    "    return return_value\n",
    "\n",
    "def get_sd(arr):\n",
    "    return np.std(arr)\n",
    "\n",
    "\n",
    "def get_values(arr):\n",
    "    ln = []\n",
    "    for x in arr:\n",
    "        ln.append(x[1])\n",
    "    return ln"
   ]
  },
  {
   "cell_type": "code",
   "execution_count": 16,
   "metadata": {},
   "outputs": [],
   "source": [
    "playboicarti = gen_train_window(\"9-Feb-2021\")\n",
    "kanye = get_test_window(\"20-Feb-2022\")\n",
    "values = get_values(kanye)"
   ]
  },
  {
   "cell_type": "code",
   "execution_count": 19,
   "metadata": {},
   "outputs": [
    {
     "data": {
      "text/plain": [
       "0.23850366873488543"
      ]
     },
     "execution_count": 19,
     "metadata": {},
     "output_type": "execute_result"
    }
   ],
   "source": [
    "get_percentage_return(values)\n",
    "get_sd(values)"
   ]
  }
 ],
 "metadata": {
  "kernelspec": {
   "display_name": "Python 3",
   "language": "python",
   "name": "python3"
  },
  "language_info": {
   "codemirror_mode": {
    "name": "ipython",
    "version": 3
   },
   "file_extension": ".py",
   "mimetype": "text/x-python",
   "name": "python",
   "nbconvert_exporter": "python",
   "pygments_lexer": "ipython3",
   "version": "3.8.3"
  }
 },
 "nbformat": 4,
 "nbformat_minor": 4
}
