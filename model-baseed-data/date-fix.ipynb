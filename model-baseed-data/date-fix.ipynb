{
 "cells": [
  {
   "cell_type": "code",
   "execution_count": 1,
   "metadata": {},
   "outputs": [],
   "source": [
    "import pandas as pd"
   ]
  },
  {
   "cell_type": "code",
   "execution_count": 2,
   "metadata": {},
   "outputs": [
    {
     "data": {
      "text/html": [
       "<div>\n",
       "<style scoped>\n",
       "    .dataframe tbody tr th:only-of-type {\n",
       "        vertical-align: middle;\n",
       "    }\n",
       "\n",
       "    .dataframe tbody tr th {\n",
       "        vertical-align: top;\n",
       "    }\n",
       "\n",
       "    .dataframe thead th {\n",
       "        text-align: right;\n",
       "    }\n",
       "</style>\n",
       "<table border=\"1\" class=\"dataframe\">\n",
       "  <thead>\n",
       "    <tr style=\"text-align: right;\">\n",
       "      <th></th>\n",
       "      <th>name</th>\n",
       "      <th>sent</th>\n",
       "      <th>text</th>\n",
       "    </tr>\n",
       "  </thead>\n",
       "  <tbody>\n",
       "    <tr>\n",
       "      <th>0</th>\n",
       "      <td>25-Jul-2022 76 2.pdf</td>\n",
       "      <td>0</td>\n",
       "      <td>export xml please read explanatory notes caref...</td>\n",
       "    </tr>\n",
       "    <tr>\n",
       "      <th>1</th>\n",
       "      <td>06-Jul-2022 37 2.pdf</td>\n",
       "      <td>0</td>\n",
       "      <td>export xml please read explanatory notes caref...</td>\n",
       "    </tr>\n",
       "    <tr>\n",
       "      <th>2</th>\n",
       "      <td>23-Jun-2022 80 2.pdf</td>\n",
       "      <td>0</td>\n",
       "      <td>export xml please read explanatory notes caref...</td>\n",
       "    </tr>\n",
       "    <tr>\n",
       "      <th>3</th>\n",
       "      <td>16-Jun-2022 10 1.pdf</td>\n",
       "      <td>2</td>\n",
       "      <td>aem create additional jobs expansion singapore...</td>\n",
       "    </tr>\n",
       "    <tr>\n",
       "      <th>4</th>\n",
       "      <td>13-Jun-2022 63 2.pdf</td>\n",
       "      <td>0</td>\n",
       "      <td>export xml please read explanatory notes caref...</td>\n",
       "    </tr>\n",
       "  </tbody>\n",
       "</table>\n",
       "</div>"
      ],
      "text/plain": [
       "                   name  sent  \\\n",
       "0  25-Jul-2022 76 2.pdf     0   \n",
       "1  06-Jul-2022 37 2.pdf     0   \n",
       "2  23-Jun-2022 80 2.pdf     0   \n",
       "3  16-Jun-2022 10 1.pdf     2   \n",
       "4  13-Jun-2022 63 2.pdf     0   \n",
       "\n",
       "                                                text  \n",
       "0  export xml please read explanatory notes caref...  \n",
       "1  export xml please read explanatory notes caref...  \n",
       "2  export xml please read explanatory notes caref...  \n",
       "3  aem create additional jobs expansion singapore...  \n",
       "4  export xml please read explanatory notes caref...  "
      ]
     },
     "execution_count": 2,
     "metadata": {},
     "output_type": "execute_result"
    }
   ],
   "source": [
    "df = pd.read_csv(\"final.csv\")\n",
    "df.head()"
   ]
  },
  {
   "cell_type": "code",
   "execution_count": null,
   "metadata": {},
   "outputs": [],
   "source": [
    "dates = []\n",
    "for x in range(df.shape[0]):\n",
    "    \n",
    "    "
   ]
  }
 ],
 "metadata": {
  "kernelspec": {
   "display_name": "Python 3",
   "language": "python",
   "name": "python3"
  },
  "language_info": {
   "codemirror_mode": {
    "name": "ipython",
    "version": 3
   },
   "file_extension": ".py",
   "mimetype": "text/x-python",
   "name": "python",
   "nbconvert_exporter": "python",
   "pygments_lexer": "ipython3",
   "version": "3.8.3"
  }
 },
 "nbformat": 4,
 "nbformat_minor": 4
}
