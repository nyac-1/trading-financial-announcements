{
  "nbformat": 4,
  "nbformat_minor": 0,
  "metadata": {
    "colab": {
      "name": "Book-1.ipynb",
      "provenance": [],
      "collapsed_sections": [],
      "authorship_tag": "ABX9TyMdlb3xFCV9oRJkwvPuvjt5",
      "include_colab_link": true
    },
    "kernelspec": {
      "name": "python3",
      "display_name": "Python 3"
    },
    "language_info": {
      "name": "python"
    },
    "accelerator": "GPU",
    "gpuClass": "standard",
    "widgets": {
      "application/vnd.jupyter.widget-state+json": {
        "5f5153fad6174755908bd7b073d4f1fb": {
          "model_module": "@jupyter-widgets/controls",
          "model_name": "HBoxModel",
          "model_module_version": "1.5.0",
          "state": {
            "_dom_classes": [],
            "_model_module": "@jupyter-widgets/controls",
            "_model_module_version": "1.5.0",
            "_model_name": "HBoxModel",
            "_view_count": null,
            "_view_module": "@jupyter-widgets/controls",
            "_view_module_version": "1.5.0",
            "_view_name": "HBoxView",
            "box_style": "",
            "children": [
              "IPY_MODEL_56de58db196c4700bb5d4decf27f99ab",
              "IPY_MODEL_67cb21fdba704fb18e3bdff6106e0ff0",
              "IPY_MODEL_c6b67ac400f1486f9480e660705e1184"
            ],
            "layout": "IPY_MODEL_6c35de6a53ef4b378bdde16a8e274323"
          }
        },
        "56de58db196c4700bb5d4decf27f99ab": {
          "model_module": "@jupyter-widgets/controls",
          "model_name": "HTMLModel",
          "model_module_version": "1.5.0",
          "state": {
            "_dom_classes": [],
            "_model_module": "@jupyter-widgets/controls",
            "_model_module_version": "1.5.0",
            "_model_name": "HTMLModel",
            "_view_count": null,
            "_view_module": "@jupyter-widgets/controls",
            "_view_module_version": "1.5.0",
            "_view_name": "HTMLView",
            "description": "",
            "description_tooltip": null,
            "layout": "IPY_MODEL_1e0d004ba54441a78d6e97c62ad39708",
            "placeholder": "​",
            "style": "IPY_MODEL_7e7601431d6c4ef5bc8a37581ef3c07c",
            "value": "Downloading: 100%"
          }
        },
        "67cb21fdba704fb18e3bdff6106e0ff0": {
          "model_module": "@jupyter-widgets/controls",
          "model_name": "FloatProgressModel",
          "model_module_version": "1.5.0",
          "state": {
            "_dom_classes": [],
            "_model_module": "@jupyter-widgets/controls",
            "_model_module_version": "1.5.0",
            "_model_name": "FloatProgressModel",
            "_view_count": null,
            "_view_module": "@jupyter-widgets/controls",
            "_view_module_version": "1.5.0",
            "_view_name": "ProgressView",
            "bar_style": "success",
            "description": "",
            "description_tooltip": null,
            "layout": "IPY_MODEL_7c20dc91e3ad4c90a38fbe7f9f79f498",
            "max": 533,
            "min": 0,
            "orientation": "horizontal",
            "style": "IPY_MODEL_be2f8f50eb7b4ec79f8017985b1366b0",
            "value": 533
          }
        },
        "c6b67ac400f1486f9480e660705e1184": {
          "model_module": "@jupyter-widgets/controls",
          "model_name": "HTMLModel",
          "model_module_version": "1.5.0",
          "state": {
            "_dom_classes": [],
            "_model_module": "@jupyter-widgets/controls",
            "_model_module_version": "1.5.0",
            "_model_name": "HTMLModel",
            "_view_count": null,
            "_view_module": "@jupyter-widgets/controls",
            "_view_module_version": "1.5.0",
            "_view_name": "HTMLView",
            "description": "",
            "description_tooltip": null,
            "layout": "IPY_MODEL_fc125ec684774173910feead7ea5493c",
            "placeholder": "​",
            "style": "IPY_MODEL_da441fa061ba4194b58c19bb384ad4f1",
            "value": " 533/533 [00:00&lt;00:00, 7.59kB/s]"
          }
        },
        "6c35de6a53ef4b378bdde16a8e274323": {
          "model_module": "@jupyter-widgets/base",
          "model_name": "LayoutModel",
          "model_module_version": "1.2.0",
          "state": {
            "_model_module": "@jupyter-widgets/base",
            "_model_module_version": "1.2.0",
            "_model_name": "LayoutModel",
            "_view_count": null,
            "_view_module": "@jupyter-widgets/base",
            "_view_module_version": "1.2.0",
            "_view_name": "LayoutView",
            "align_content": null,
            "align_items": null,
            "align_self": null,
            "border": null,
            "bottom": null,
            "display": null,
            "flex": null,
            "flex_flow": null,
            "grid_area": null,
            "grid_auto_columns": null,
            "grid_auto_flow": null,
            "grid_auto_rows": null,
            "grid_column": null,
            "grid_gap": null,
            "grid_row": null,
            "grid_template_areas": null,
            "grid_template_columns": null,
            "grid_template_rows": null,
            "height": null,
            "justify_content": null,
            "justify_items": null,
            "left": null,
            "margin": null,
            "max_height": null,
            "max_width": null,
            "min_height": null,
            "min_width": null,
            "object_fit": null,
            "object_position": null,
            "order": null,
            "overflow": null,
            "overflow_x": null,
            "overflow_y": null,
            "padding": null,
            "right": null,
            "top": null,
            "visibility": null,
            "width": null
          }
        },
        "1e0d004ba54441a78d6e97c62ad39708": {
          "model_module": "@jupyter-widgets/base",
          "model_name": "LayoutModel",
          "model_module_version": "1.2.0",
          "state": {
            "_model_module": "@jupyter-widgets/base",
            "_model_module_version": "1.2.0",
            "_model_name": "LayoutModel",
            "_view_count": null,
            "_view_module": "@jupyter-widgets/base",
            "_view_module_version": "1.2.0",
            "_view_name": "LayoutView",
            "align_content": null,
            "align_items": null,
            "align_self": null,
            "border": null,
            "bottom": null,
            "display": null,
            "flex": null,
            "flex_flow": null,
            "grid_area": null,
            "grid_auto_columns": null,
            "grid_auto_flow": null,
            "grid_auto_rows": null,
            "grid_column": null,
            "grid_gap": null,
            "grid_row": null,
            "grid_template_areas": null,
            "grid_template_columns": null,
            "grid_template_rows": null,
            "height": null,
            "justify_content": null,
            "justify_items": null,
            "left": null,
            "margin": null,
            "max_height": null,
            "max_width": null,
            "min_height": null,
            "min_width": null,
            "object_fit": null,
            "object_position": null,
            "order": null,
            "overflow": null,
            "overflow_x": null,
            "overflow_y": null,
            "padding": null,
            "right": null,
            "top": null,
            "visibility": null,
            "width": null
          }
        },
        "7e7601431d6c4ef5bc8a37581ef3c07c": {
          "model_module": "@jupyter-widgets/controls",
          "model_name": "DescriptionStyleModel",
          "model_module_version": "1.5.0",
          "state": {
            "_model_module": "@jupyter-widgets/controls",
            "_model_module_version": "1.5.0",
            "_model_name": "DescriptionStyleModel",
            "_view_count": null,
            "_view_module": "@jupyter-widgets/base",
            "_view_module_version": "1.2.0",
            "_view_name": "StyleView",
            "description_width": ""
          }
        },
        "7c20dc91e3ad4c90a38fbe7f9f79f498": {
          "model_module": "@jupyter-widgets/base",
          "model_name": "LayoutModel",
          "model_module_version": "1.2.0",
          "state": {
            "_model_module": "@jupyter-widgets/base",
            "_model_module_version": "1.2.0",
            "_model_name": "LayoutModel",
            "_view_count": null,
            "_view_module": "@jupyter-widgets/base",
            "_view_module_version": "1.2.0",
            "_view_name": "LayoutView",
            "align_content": null,
            "align_items": null,
            "align_self": null,
            "border": null,
            "bottom": null,
            "display": null,
            "flex": null,
            "flex_flow": null,
            "grid_area": null,
            "grid_auto_columns": null,
            "grid_auto_flow": null,
            "grid_auto_rows": null,
            "grid_column": null,
            "grid_gap": null,
            "grid_row": null,
            "grid_template_areas": null,
            "grid_template_columns": null,
            "grid_template_rows": null,
            "height": null,
            "justify_content": null,
            "justify_items": null,
            "left": null,
            "margin": null,
            "max_height": null,
            "max_width": null,
            "min_height": null,
            "min_width": null,
            "object_fit": null,
            "object_position": null,
            "order": null,
            "overflow": null,
            "overflow_x": null,
            "overflow_y": null,
            "padding": null,
            "right": null,
            "top": null,
            "visibility": null,
            "width": null
          }
        },
        "be2f8f50eb7b4ec79f8017985b1366b0": {
          "model_module": "@jupyter-widgets/controls",
          "model_name": "ProgressStyleModel",
          "model_module_version": "1.5.0",
          "state": {
            "_model_module": "@jupyter-widgets/controls",
            "_model_module_version": "1.5.0",
            "_model_name": "ProgressStyleModel",
            "_view_count": null,
            "_view_module": "@jupyter-widgets/base",
            "_view_module_version": "1.2.0",
            "_view_name": "StyleView",
            "bar_color": null,
            "description_width": ""
          }
        },
        "fc125ec684774173910feead7ea5493c": {
          "model_module": "@jupyter-widgets/base",
          "model_name": "LayoutModel",
          "model_module_version": "1.2.0",
          "state": {
            "_model_module": "@jupyter-widgets/base",
            "_model_module_version": "1.2.0",
            "_model_name": "LayoutModel",
            "_view_count": null,
            "_view_module": "@jupyter-widgets/base",
            "_view_module_version": "1.2.0",
            "_view_name": "LayoutView",
            "align_content": null,
            "align_items": null,
            "align_self": null,
            "border": null,
            "bottom": null,
            "display": null,
            "flex": null,
            "flex_flow": null,
            "grid_area": null,
            "grid_auto_columns": null,
            "grid_auto_flow": null,
            "grid_auto_rows": null,
            "grid_column": null,
            "grid_gap": null,
            "grid_row": null,
            "grid_template_areas": null,
            "grid_template_columns": null,
            "grid_template_rows": null,
            "height": null,
            "justify_content": null,
            "justify_items": null,
            "left": null,
            "margin": null,
            "max_height": null,
            "max_width": null,
            "min_height": null,
            "min_width": null,
            "object_fit": null,
            "object_position": null,
            "order": null,
            "overflow": null,
            "overflow_x": null,
            "overflow_y": null,
            "padding": null,
            "right": null,
            "top": null,
            "visibility": null,
            "width": null
          }
        },
        "da441fa061ba4194b58c19bb384ad4f1": {
          "model_module": "@jupyter-widgets/controls",
          "model_name": "DescriptionStyleModel",
          "model_module_version": "1.5.0",
          "state": {
            "_model_module": "@jupyter-widgets/controls",
            "_model_module_version": "1.5.0",
            "_model_name": "DescriptionStyleModel",
            "_view_count": null,
            "_view_module": "@jupyter-widgets/base",
            "_view_module_version": "1.2.0",
            "_view_name": "StyleView",
            "description_width": ""
          }
        },
        "6bb71f5f0ee742108f57aa008c5b871a": {
          "model_module": "@jupyter-widgets/controls",
          "model_name": "HBoxModel",
          "model_module_version": "1.5.0",
          "state": {
            "_dom_classes": [],
            "_model_module": "@jupyter-widgets/controls",
            "_model_module_version": "1.5.0",
            "_model_name": "HBoxModel",
            "_view_count": null,
            "_view_module": "@jupyter-widgets/controls",
            "_view_module_version": "1.5.0",
            "_view_name": "HBoxView",
            "box_style": "",
            "children": [
              "IPY_MODEL_e73b9243cab84bf4967c21d24b8f2bc5",
              "IPY_MODEL_7d6c271d46d54d189c4d3a9442fe99ee",
              "IPY_MODEL_93b84898a7924cd29ba65756a53784c7"
            ],
            "layout": "IPY_MODEL_29ed1b4c03974b0a8ac0facdc7a3a36e"
          }
        },
        "e73b9243cab84bf4967c21d24b8f2bc5": {
          "model_module": "@jupyter-widgets/controls",
          "model_name": "HTMLModel",
          "model_module_version": "1.5.0",
          "state": {
            "_dom_classes": [],
            "_model_module": "@jupyter-widgets/controls",
            "_model_module_version": "1.5.0",
            "_model_name": "HTMLModel",
            "_view_count": null,
            "_view_module": "@jupyter-widgets/controls",
            "_view_module_version": "1.5.0",
            "_view_name": "HTMLView",
            "description": "",
            "description_tooltip": null,
            "layout": "IPY_MODEL_3ce7c077f118448fa2c91f98caffb71b",
            "placeholder": "​",
            "style": "IPY_MODEL_aa378d262fed41eda7a648290bc883ce",
            "value": "Downloading: 100%"
          }
        },
        "7d6c271d46d54d189c4d3a9442fe99ee": {
          "model_module": "@jupyter-widgets/controls",
          "model_name": "FloatProgressModel",
          "model_module_version": "1.5.0",
          "state": {
            "_dom_classes": [],
            "_model_module": "@jupyter-widgets/controls",
            "_model_module_version": "1.5.0",
            "_model_name": "FloatProgressModel",
            "_view_count": null,
            "_view_module": "@jupyter-widgets/controls",
            "_view_module_version": "1.5.0",
            "_view_name": "ProgressView",
            "bar_style": "success",
            "description": "",
            "description_tooltip": null,
            "layout": "IPY_MODEL_14c990a0b0e540a3b4e086cdca1120d6",
            "max": 439101405,
            "min": 0,
            "orientation": "horizontal",
            "style": "IPY_MODEL_c097393710d84b3b98b33f87a5705c5f",
            "value": 439101405
          }
        },
        "93b84898a7924cd29ba65756a53784c7": {
          "model_module": "@jupyter-widgets/controls",
          "model_name": "HTMLModel",
          "model_module_version": "1.5.0",
          "state": {
            "_dom_classes": [],
            "_model_module": "@jupyter-widgets/controls",
            "_model_module_version": "1.5.0",
            "_model_name": "HTMLModel",
            "_view_count": null,
            "_view_module": "@jupyter-widgets/controls",
            "_view_module_version": "1.5.0",
            "_view_name": "HTMLView",
            "description": "",
            "description_tooltip": null,
            "layout": "IPY_MODEL_50da71a0a18e4527bc866a7af7d457b5",
            "placeholder": "​",
            "style": "IPY_MODEL_f51cf59f8e194ef7aa0f978258161af2",
            "value": " 419M/419M [00:12&lt;00:00, 41.6MB/s]"
          }
        },
        "29ed1b4c03974b0a8ac0facdc7a3a36e": {
          "model_module": "@jupyter-widgets/base",
          "model_name": "LayoutModel",
          "model_module_version": "1.2.0",
          "state": {
            "_model_module": "@jupyter-widgets/base",
            "_model_module_version": "1.2.0",
            "_model_name": "LayoutModel",
            "_view_count": null,
            "_view_module": "@jupyter-widgets/base",
            "_view_module_version": "1.2.0",
            "_view_name": "LayoutView",
            "align_content": null,
            "align_items": null,
            "align_self": null,
            "border": null,
            "bottom": null,
            "display": null,
            "flex": null,
            "flex_flow": null,
            "grid_area": null,
            "grid_auto_columns": null,
            "grid_auto_flow": null,
            "grid_auto_rows": null,
            "grid_column": null,
            "grid_gap": null,
            "grid_row": null,
            "grid_template_areas": null,
            "grid_template_columns": null,
            "grid_template_rows": null,
            "height": null,
            "justify_content": null,
            "justify_items": null,
            "left": null,
            "margin": null,
            "max_height": null,
            "max_width": null,
            "min_height": null,
            "min_width": null,
            "object_fit": null,
            "object_position": null,
            "order": null,
            "overflow": null,
            "overflow_x": null,
            "overflow_y": null,
            "padding": null,
            "right": null,
            "top": null,
            "visibility": null,
            "width": null
          }
        },
        "3ce7c077f118448fa2c91f98caffb71b": {
          "model_module": "@jupyter-widgets/base",
          "model_name": "LayoutModel",
          "model_module_version": "1.2.0",
          "state": {
            "_model_module": "@jupyter-widgets/base",
            "_model_module_version": "1.2.0",
            "_model_name": "LayoutModel",
            "_view_count": null,
            "_view_module": "@jupyter-widgets/base",
            "_view_module_version": "1.2.0",
            "_view_name": "LayoutView",
            "align_content": null,
            "align_items": null,
            "align_self": null,
            "border": null,
            "bottom": null,
            "display": null,
            "flex": null,
            "flex_flow": null,
            "grid_area": null,
            "grid_auto_columns": null,
            "grid_auto_flow": null,
            "grid_auto_rows": null,
            "grid_column": null,
            "grid_gap": null,
            "grid_row": null,
            "grid_template_areas": null,
            "grid_template_columns": null,
            "grid_template_rows": null,
            "height": null,
            "justify_content": null,
            "justify_items": null,
            "left": null,
            "margin": null,
            "max_height": null,
            "max_width": null,
            "min_height": null,
            "min_width": null,
            "object_fit": null,
            "object_position": null,
            "order": null,
            "overflow": null,
            "overflow_x": null,
            "overflow_y": null,
            "padding": null,
            "right": null,
            "top": null,
            "visibility": null,
            "width": null
          }
        },
        "aa378d262fed41eda7a648290bc883ce": {
          "model_module": "@jupyter-widgets/controls",
          "model_name": "DescriptionStyleModel",
          "model_module_version": "1.5.0",
          "state": {
            "_model_module": "@jupyter-widgets/controls",
            "_model_module_version": "1.5.0",
            "_model_name": "DescriptionStyleModel",
            "_view_count": null,
            "_view_module": "@jupyter-widgets/base",
            "_view_module_version": "1.2.0",
            "_view_name": "StyleView",
            "description_width": ""
          }
        },
        "14c990a0b0e540a3b4e086cdca1120d6": {
          "model_module": "@jupyter-widgets/base",
          "model_name": "LayoutModel",
          "model_module_version": "1.2.0",
          "state": {
            "_model_module": "@jupyter-widgets/base",
            "_model_module_version": "1.2.0",
            "_model_name": "LayoutModel",
            "_view_count": null,
            "_view_module": "@jupyter-widgets/base",
            "_view_module_version": "1.2.0",
            "_view_name": "LayoutView",
            "align_content": null,
            "align_items": null,
            "align_self": null,
            "border": null,
            "bottom": null,
            "display": null,
            "flex": null,
            "flex_flow": null,
            "grid_area": null,
            "grid_auto_columns": null,
            "grid_auto_flow": null,
            "grid_auto_rows": null,
            "grid_column": null,
            "grid_gap": null,
            "grid_row": null,
            "grid_template_areas": null,
            "grid_template_columns": null,
            "grid_template_rows": null,
            "height": null,
            "justify_content": null,
            "justify_items": null,
            "left": null,
            "margin": null,
            "max_height": null,
            "max_width": null,
            "min_height": null,
            "min_width": null,
            "object_fit": null,
            "object_position": null,
            "order": null,
            "overflow": null,
            "overflow_x": null,
            "overflow_y": null,
            "padding": null,
            "right": null,
            "top": null,
            "visibility": null,
            "width": null
          }
        },
        "c097393710d84b3b98b33f87a5705c5f": {
          "model_module": "@jupyter-widgets/controls",
          "model_name": "ProgressStyleModel",
          "model_module_version": "1.5.0",
          "state": {
            "_model_module": "@jupyter-widgets/controls",
            "_model_module_version": "1.5.0",
            "_model_name": "ProgressStyleModel",
            "_view_count": null,
            "_view_module": "@jupyter-widgets/base",
            "_view_module_version": "1.2.0",
            "_view_name": "StyleView",
            "bar_color": null,
            "description_width": ""
          }
        },
        "50da71a0a18e4527bc866a7af7d457b5": {
          "model_module": "@jupyter-widgets/base",
          "model_name": "LayoutModel",
          "model_module_version": "1.2.0",
          "state": {
            "_model_module": "@jupyter-widgets/base",
            "_model_module_version": "1.2.0",
            "_model_name": "LayoutModel",
            "_view_count": null,
            "_view_module": "@jupyter-widgets/base",
            "_view_module_version": "1.2.0",
            "_view_name": "LayoutView",
            "align_content": null,
            "align_items": null,
            "align_self": null,
            "border": null,
            "bottom": null,
            "display": null,
            "flex": null,
            "flex_flow": null,
            "grid_area": null,
            "grid_auto_columns": null,
            "grid_auto_flow": null,
            "grid_auto_rows": null,
            "grid_column": null,
            "grid_gap": null,
            "grid_row": null,
            "grid_template_areas": null,
            "grid_template_columns": null,
            "grid_template_rows": null,
            "height": null,
            "justify_content": null,
            "justify_items": null,
            "left": null,
            "margin": null,
            "max_height": null,
            "max_width": null,
            "min_height": null,
            "min_width": null,
            "object_fit": null,
            "object_position": null,
            "order": null,
            "overflow": null,
            "overflow_x": null,
            "overflow_y": null,
            "padding": null,
            "right": null,
            "top": null,
            "visibility": null,
            "width": null
          }
        },
        "f51cf59f8e194ef7aa0f978258161af2": {
          "model_module": "@jupyter-widgets/controls",
          "model_name": "DescriptionStyleModel",
          "model_module_version": "1.5.0",
          "state": {
            "_model_module": "@jupyter-widgets/controls",
            "_model_module_version": "1.5.0",
            "_model_name": "DescriptionStyleModel",
            "_view_count": null,
            "_view_module": "@jupyter-widgets/base",
            "_view_module_version": "1.2.0",
            "_view_name": "StyleView",
            "description_width": ""
          }
        },
        "790f780231b64245b8d1c52669c2fa53": {
          "model_module": "@jupyter-widgets/controls",
          "model_name": "HBoxModel",
          "model_module_version": "1.5.0",
          "state": {
            "_dom_classes": [],
            "_model_module": "@jupyter-widgets/controls",
            "_model_module_version": "1.5.0",
            "_model_name": "HBoxModel",
            "_view_count": null,
            "_view_module": "@jupyter-widgets/controls",
            "_view_module_version": "1.5.0",
            "_view_name": "HBoxView",
            "box_style": "",
            "children": [
              "IPY_MODEL_7481786406d74c61be07a4092f981173",
              "IPY_MODEL_ce5ea48b63974b4497bf981827e0d59f",
              "IPY_MODEL_3fcd0a8946bf4ca1a4d478165c65880f"
            ],
            "layout": "IPY_MODEL_4cb45052da4444668fa4203e37983cc0"
          }
        },
        "7481786406d74c61be07a4092f981173": {
          "model_module": "@jupyter-widgets/controls",
          "model_name": "HTMLModel",
          "model_module_version": "1.5.0",
          "state": {
            "_dom_classes": [],
            "_model_module": "@jupyter-widgets/controls",
            "_model_module_version": "1.5.0",
            "_model_name": "HTMLModel",
            "_view_count": null,
            "_view_module": "@jupyter-widgets/controls",
            "_view_module_version": "1.5.0",
            "_view_name": "HTMLView",
            "description": "",
            "description_tooltip": null,
            "layout": "IPY_MODEL_ae47cc26ab194f4483d94809f1311235",
            "placeholder": "​",
            "style": "IPY_MODEL_9922787e366a4612b8293f1e77765d14",
            "value": "Downloading: 100%"
          }
        },
        "ce5ea48b63974b4497bf981827e0d59f": {
          "model_module": "@jupyter-widgets/controls",
          "model_name": "FloatProgressModel",
          "model_module_version": "1.5.0",
          "state": {
            "_dom_classes": [],
            "_model_module": "@jupyter-widgets/controls",
            "_model_module_version": "1.5.0",
            "_model_name": "FloatProgressModel",
            "_view_count": null,
            "_view_module": "@jupyter-widgets/controls",
            "_view_module_version": "1.5.0",
            "_view_name": "ProgressView",
            "bar_style": "success",
            "description": "",
            "description_tooltip": null,
            "layout": "IPY_MODEL_1ca156c11c8a4598b0cbaab9633c05d0",
            "max": 226122,
            "min": 0,
            "orientation": "horizontal",
            "style": "IPY_MODEL_991efdb410894d4dbc35100f3fcabc8e",
            "value": 226122
          }
        },
        "3fcd0a8946bf4ca1a4d478165c65880f": {
          "model_module": "@jupyter-widgets/controls",
          "model_name": "HTMLModel",
          "model_module_version": "1.5.0",
          "state": {
            "_dom_classes": [],
            "_model_module": "@jupyter-widgets/controls",
            "_model_module_version": "1.5.0",
            "_model_name": "HTMLModel",
            "_view_count": null,
            "_view_module": "@jupyter-widgets/controls",
            "_view_module_version": "1.5.0",
            "_view_name": "HTMLView",
            "description": "",
            "description_tooltip": null,
            "layout": "IPY_MODEL_8a0d663416d9419f92898df920f645d7",
            "placeholder": "​",
            "style": "IPY_MODEL_5c4bf687a653420e823538cb1a21136b",
            "value": " 221k/221k [00:00&lt;00:00, 4.37MB/s]"
          }
        },
        "4cb45052da4444668fa4203e37983cc0": {
          "model_module": "@jupyter-widgets/base",
          "model_name": "LayoutModel",
          "model_module_version": "1.2.0",
          "state": {
            "_model_module": "@jupyter-widgets/base",
            "_model_module_version": "1.2.0",
            "_model_name": "LayoutModel",
            "_view_count": null,
            "_view_module": "@jupyter-widgets/base",
            "_view_module_version": "1.2.0",
            "_view_name": "LayoutView",
            "align_content": null,
            "align_items": null,
            "align_self": null,
            "border": null,
            "bottom": null,
            "display": null,
            "flex": null,
            "flex_flow": null,
            "grid_area": null,
            "grid_auto_columns": null,
            "grid_auto_flow": null,
            "grid_auto_rows": null,
            "grid_column": null,
            "grid_gap": null,
            "grid_row": null,
            "grid_template_areas": null,
            "grid_template_columns": null,
            "grid_template_rows": null,
            "height": null,
            "justify_content": null,
            "justify_items": null,
            "left": null,
            "margin": null,
            "max_height": null,
            "max_width": null,
            "min_height": null,
            "min_width": null,
            "object_fit": null,
            "object_position": null,
            "order": null,
            "overflow": null,
            "overflow_x": null,
            "overflow_y": null,
            "padding": null,
            "right": null,
            "top": null,
            "visibility": null,
            "width": null
          }
        },
        "ae47cc26ab194f4483d94809f1311235": {
          "model_module": "@jupyter-widgets/base",
          "model_name": "LayoutModel",
          "model_module_version": "1.2.0",
          "state": {
            "_model_module": "@jupyter-widgets/base",
            "_model_module_version": "1.2.0",
            "_model_name": "LayoutModel",
            "_view_count": null,
            "_view_module": "@jupyter-widgets/base",
            "_view_module_version": "1.2.0",
            "_view_name": "LayoutView",
            "align_content": null,
            "align_items": null,
            "align_self": null,
            "border": null,
            "bottom": null,
            "display": null,
            "flex": null,
            "flex_flow": null,
            "grid_area": null,
            "grid_auto_columns": null,
            "grid_auto_flow": null,
            "grid_auto_rows": null,
            "grid_column": null,
            "grid_gap": null,
            "grid_row": null,
            "grid_template_areas": null,
            "grid_template_columns": null,
            "grid_template_rows": null,
            "height": null,
            "justify_content": null,
            "justify_items": null,
            "left": null,
            "margin": null,
            "max_height": null,
            "max_width": null,
            "min_height": null,
            "min_width": null,
            "object_fit": null,
            "object_position": null,
            "order": null,
            "overflow": null,
            "overflow_x": null,
            "overflow_y": null,
            "padding": null,
            "right": null,
            "top": null,
            "visibility": null,
            "width": null
          }
        },
        "9922787e366a4612b8293f1e77765d14": {
          "model_module": "@jupyter-widgets/controls",
          "model_name": "DescriptionStyleModel",
          "model_module_version": "1.5.0",
          "state": {
            "_model_module": "@jupyter-widgets/controls",
            "_model_module_version": "1.5.0",
            "_model_name": "DescriptionStyleModel",
            "_view_count": null,
            "_view_module": "@jupyter-widgets/base",
            "_view_module_version": "1.2.0",
            "_view_name": "StyleView",
            "description_width": ""
          }
        },
        "1ca156c11c8a4598b0cbaab9633c05d0": {
          "model_module": "@jupyter-widgets/base",
          "model_name": "LayoutModel",
          "model_module_version": "1.2.0",
          "state": {
            "_model_module": "@jupyter-widgets/base",
            "_model_module_version": "1.2.0",
            "_model_name": "LayoutModel",
            "_view_count": null,
            "_view_module": "@jupyter-widgets/base",
            "_view_module_version": "1.2.0",
            "_view_name": "LayoutView",
            "align_content": null,
            "align_items": null,
            "align_self": null,
            "border": null,
            "bottom": null,
            "display": null,
            "flex": null,
            "flex_flow": null,
            "grid_area": null,
            "grid_auto_columns": null,
            "grid_auto_flow": null,
            "grid_auto_rows": null,
            "grid_column": null,
            "grid_gap": null,
            "grid_row": null,
            "grid_template_areas": null,
            "grid_template_columns": null,
            "grid_template_rows": null,
            "height": null,
            "justify_content": null,
            "justify_items": null,
            "left": null,
            "margin": null,
            "max_height": null,
            "max_width": null,
            "min_height": null,
            "min_width": null,
            "object_fit": null,
            "object_position": null,
            "order": null,
            "overflow": null,
            "overflow_x": null,
            "overflow_y": null,
            "padding": null,
            "right": null,
            "top": null,
            "visibility": null,
            "width": null
          }
        },
        "991efdb410894d4dbc35100f3fcabc8e": {
          "model_module": "@jupyter-widgets/controls",
          "model_name": "ProgressStyleModel",
          "model_module_version": "1.5.0",
          "state": {
            "_model_module": "@jupyter-widgets/controls",
            "_model_module_version": "1.5.0",
            "_model_name": "ProgressStyleModel",
            "_view_count": null,
            "_view_module": "@jupyter-widgets/base",
            "_view_module_version": "1.2.0",
            "_view_name": "StyleView",
            "bar_color": null,
            "description_width": ""
          }
        },
        "8a0d663416d9419f92898df920f645d7": {
          "model_module": "@jupyter-widgets/base",
          "model_name": "LayoutModel",
          "model_module_version": "1.2.0",
          "state": {
            "_model_module": "@jupyter-widgets/base",
            "_model_module_version": "1.2.0",
            "_model_name": "LayoutModel",
            "_view_count": null,
            "_view_module": "@jupyter-widgets/base",
            "_view_module_version": "1.2.0",
            "_view_name": "LayoutView",
            "align_content": null,
            "align_items": null,
            "align_self": null,
            "border": null,
            "bottom": null,
            "display": null,
            "flex": null,
            "flex_flow": null,
            "grid_area": null,
            "grid_auto_columns": null,
            "grid_auto_flow": null,
            "grid_auto_rows": null,
            "grid_column": null,
            "grid_gap": null,
            "grid_row": null,
            "grid_template_areas": null,
            "grid_template_columns": null,
            "grid_template_rows": null,
            "height": null,
            "justify_content": null,
            "justify_items": null,
            "left": null,
            "margin": null,
            "max_height": null,
            "max_width": null,
            "min_height": null,
            "min_width": null,
            "object_fit": null,
            "object_position": null,
            "order": null,
            "overflow": null,
            "overflow_x": null,
            "overflow_y": null,
            "padding": null,
            "right": null,
            "top": null,
            "visibility": null,
            "width": null
          }
        },
        "5c4bf687a653420e823538cb1a21136b": {
          "model_module": "@jupyter-widgets/controls",
          "model_name": "DescriptionStyleModel",
          "model_module_version": "1.5.0",
          "state": {
            "_model_module": "@jupyter-widgets/controls",
            "_model_module_version": "1.5.0",
            "_model_name": "DescriptionStyleModel",
            "_view_count": null,
            "_view_module": "@jupyter-widgets/base",
            "_view_module_version": "1.2.0",
            "_view_name": "StyleView",
            "description_width": ""
          }
        }
      }
    }
  },
  "cells": [
    {
      "cell_type": "markdown",
      "metadata": {
        "id": "view-in-github",
        "colab_type": "text"
      },
      "source": [
        "<a href=\"https://colab.research.google.com/github/nyac-1/trading-financial-announcements/blob/main/Book_1.ipynb\" target=\"_parent\"><img src=\"https://colab.research.google.com/assets/colab-badge.svg\" alt=\"Open In Colab\"/></a>"
      ]
    },
    {
      "cell_type": "code",
      "execution_count": 1,
      "metadata": {
        "id": "1htZbaOSMXT_",
        "colab": {
          "base_uri": "https://localhost:8080/"
        },
        "outputId": "eda6b175-7a5b-4064-aa74-0563940038fc"
      },
      "outputs": [
        {
          "output_type": "stream",
          "name": "stdout",
          "text": [
            "Mounted at /content/gdrive\n",
            "/content/gdrive/My Drive/Colab Notebooks\n"
          ]
        }
      ],
      "source": [
        "%matplotlib inline\n",
        "\n",
        "from google.colab import drive; drive.mount('/content/gdrive', force_remount=True)\n",
        "%cd '/content/gdrive/My Drive/Colab Notebooks'\n",
        "\n",
        "import pandas as pd\n",
        "import glob"
      ]
    },
    {
      "cell_type": "code",
      "source": [
        "!pip install pdflib"
      ],
      "metadata": {
        "id": "mOJVHkg6NP3T",
        "colab": {
          "base_uri": "https://localhost:8080/"
        },
        "outputId": "d11c779a-5a56-49c7-edb1-44710fb8bcf7"
      },
      "execution_count": 2,
      "outputs": [
        {
          "output_type": "stream",
          "name": "stdout",
          "text": [
            "Looking in indexes: https://pypi.org/simple, https://us-python.pkg.dev/colab-wheels/public/simple/\n",
            "Collecting pdflib\n",
            "  Downloading pdflib-0.3.0-cp37-cp37m-manylinux2010_x86_64.whl (5.8 MB)\n",
            "\u001b[K     |████████████████████████████████| 5.8 MB 18.0 MB/s \n",
            "\u001b[?25hRequirement already satisfied: six in /usr/local/lib/python3.7/dist-packages (from pdflib) (1.15.0)\n",
            "Requirement already satisfied: lxml in /usr/local/lib/python3.7/dist-packages (from pdflib) (4.2.6)\n",
            "Requirement already satisfied: cython in /usr/local/lib/python3.7/dist-packages (from pdflib) (0.29.30)\n",
            "Installing collected packages: pdflib\n",
            "Successfully installed pdflib-0.3.0\n"
          ]
        }
      ]
    },
    {
      "cell_type": "code",
      "source": [
        "dir='/content/gdrive/My Drive/aem'"
      ],
      "metadata": {
        "id": "za-IoioHNXI9"
      },
      "execution_count": 3,
      "outputs": []
    },
    {
      "cell_type": "code",
      "source": [
        "from pdflib import Document\n",
        "doc = Document(dir+\"/company-announcements?value=AEM%20HOLDINGS%20LTD.&type=company&page=1&pagesize=100.pdf\")\n",
        "\n",
        "for page in doc:\n",
        "  print(' \\n'.join(page.lines).strip())"
      ],
      "metadata": {
        "id": "_qUd0XhGNjv5",
        "colab": {
          "base_uri": "https://localhost:8080/"
        },
        "outputId": "82414afc-926c-42de-e48f-28c5b9a92d28"
      },
      "execution_count": 4,
      "outputs": [
        {
          "output_type": "stream",
          "name": "stdout",
          "text": [
            "SECURITIES AND FUTURES ACT (CAP. 289) \n",
            "SECURITIES AND FUTURES (DISCLOSURE OF INTERESTS)                                                  FORM \n",
            "REGULATIONS 2012 \n",
            "NOTIFICATION FORM FOR DIRECTOR/CHIEF EXECUTIVE OFFICER                                                          1 \n",
            "(Electronic Format) \n",
            "IN RESPECT OF INTERESTS IN SECURITIES \n",
            "Explanatory Notes \n",
            "1. Please read the explanatory notes carefully before completing this notification form. \n",
            "2. This form is for a Director/Chief Executive Officer (“CEO”) to give notice of his interests in the securities of \n",
            "the Listed Issuer under section 133, 137N or 137Y of the Securities and Futures Act (Cap. 289) (the \n",
            "“SFA”). Please note that the requirement to disclose interests in participatory interests applies only to a \n",
            "director and where the Listed Issuer is a Singapore-incorporated company. \n",
            "3. This electronic Form 1 and a separate Form C, containing the particulars and contact details of the \n",
            "Director/CEO, must be completed by the Director/CEO or a person duly authorised by him to do so. The \n",
            "person so authorised should maintain records of information furnished to him by the Director/CEO. \n",
            "4. This form and Form C, are to be completed electronically and sent to the Listed Issuer via an electronic \n",
            "medium such as an e-mail attachment. The Listed Issuer will attach both forms to the prescribed SGXNet \n",
            "announcement template for dissemination as required under section 137G(1), 137R(1) or 137ZC(1) of the \n",
            "SFA, as the case may be. While Form C will be attached to the announcement template, it will not be \n",
            "disseminated to the public and is made available only to the Monetary Authority of Singapore (the \n",
            "\"Authority\"). \n",
            "5. A single form may be used by a Director/CEO for more than one transaction resulting in notifiable \n",
            "obligations which occur within the same notifiable period (i.e. within two business days of/of becoming \n",
            "aware of, the earliest transaction). There must be no netting-off of two or more notifiable transactions even \n",
            "if they occur within the same day. \n",
            "6. All applicable parts of the notification form must be completed. If there is insufficient space for your \n",
            "answers, please include attachment(s) by clicking on the paper clip icon on the bottom left-hand corner or \n",
            "in item 3 of Part II or item 10 of Part III. The total file size for all attachment(s) should not exceed 1MB. \n",
            "7. Except for item 4 of Part III, please select only one option from the relevant check boxes. \n",
            "8. Please note that submission of any false or misleading information is an offence under Part VII of the SFA. \n",
            "9. In this form, the term “Listed Issuer” refers to – \n",
            "(a) a company incorporated in Singapore any or all of the shares in which are listed for quotation on the \n",
            "official list of a securities exchange; \n",
            "(b) a corporation (not being a company incorporated in Singapore, or a collective investment scheme \n",
            "constituted as a corporation) any or all of the shares in which are listed for quotation on the official list \n",
            "of a securities exchange, such listing being a primary listing; \n",
            "(c) a registered business trust (as defined in the Business Trusts Act (Cap. 31A)) any or all of the units in \n",
            "which are listed for quotation on the official list of a securities exchange; \n",
            "(d) a recognised business trust any or all of the units in which are listed for quotation on the official list of a \n",
            "securities exchange, such listing being a primary listing; or \n",
            "(e) a collective investment scheme that is a trust, that invests primarily in real estate and real estate- \n",
            "related assets specified by the Authority in the Code on Collective Investment Schemes, and any or all \n",
            "the units in which are listed for quotation on the official list of a securities exchange, such listing being a \n",
            "primary listing (“Real Estate Investment Trust”). \n",
            "10. For further instructions and guidance on how to complete this notification form, please refer to section 6 of \n",
            "the User Guide on Electronic Notification Forms which can be accessed at the Authority’s Internet website \n",
            "at http://www.mas.gov.sg (under “Regulations and Financial Stability”, \"Regulations, Guidance and \n",
            "Licensing\", \"Securities, Futures and Fund Management\", \"Forms\", \"Disclosure of Interests\"). \n",
            "Export XML\n",
            "Part I - General \n",
            "1.      Name of Listed Issuer: \n",
            "AEM Holdings Ltd. \n",
            "2.      Type of Listed Issuer: \n",
            "Company/Corporation \n",
            "Registered/Recognised Business Trust \n",
            "Real Estate Investment Trust \n",
            "3.      Name of Director/CEO: \n",
            "James Toh Ban Leng \n",
            "4.      Is the Director/CEO also a substantial shareholder/unitholder of the Listed Issuer? \n",
            "Yes \n",
            "No \n",
            "5.      Is the Director/CEO notifying in respect of his interests in securities of, or made available by, \n",
            "the Listed Issuer at the time of his appointment? \n",
            "Yes (Please proceed to complete Part II) \n",
            "No      (Please proceed to complete Part III) \n",
            "6.      Date of notification to Listed Issuer: \n",
            "16-May-2021 \n",
            "FORM 1/[ Version 2.0 ]/Effective Date [ 21 March 2014 ]                                                     Page 2 of 6\n",
            "Part III - For an incumbent Director/CEO giving notice of an acquisition of, or \n",
            "a change in his interest in, securities of or made available by the Listed Issuer \n",
            "Transaction A \n",
            "1.      Date of acquisition of or change in interest: \n",
            "14-May-2021 \n",
            "2.      Date on which Director/CEO became aware of the acquisition of, or change in, interest \n",
            "(if different from item 1 above, please specify the date): \n",
            "14-May-2021 \n",
            "3.      Explanation (if the date of becoming aware is different from the date of acquisition of, or change \n",
            "in, interest): \n",
            "4.      Type of securities which are the subject of the transaction (more than one option may be \n",
            "chosen): \n",
            "Ordinary voting shares/units of Listed Issuer \n",
            "Other types of shares/units (excluding ordinary voting shares/units) of Listed Issuer \n",
            "Rights/Options/Warrants over shares/units of Listed Issuer \n",
            "Debentures of Listed Issuer \n",
            "Rights/Options over debentures of Listed Issuer \n",
            "Contracts over shares of the Listed Issuer which Director/CEO is a party to, or under which he is \n",
            "entitled to a benefit, being contracts under which any person has a right to call for or to make \n",
            "delivery of shares in the Listed Issuer \n",
            "Participatory interests made available by Listed Issuer \n",
            "Others (please specify): \n",
            "5.      Number of shares, units, rights, options, warrants, participatory interests and/or principal \n",
            "amount/value of debentures or contracts acquired or disposed of by Director/CEO: \n",
            "100,000 \n",
            "6.      Amount of consideration paid or received by Director/CEO (excluding brokerage and stamp \n",
            "duties): \n",
            "S$335,000 \n",
            "FORM 1/[ Version 2.0 ]/Effective Date [ 21 March 2014 ]                                                            Page 3 of 6\n",
            "7.      Circumstance giving rise to the interest or change in interest: \n",
            "Acquisition of: \n",
            "Securities via market transaction \n",
            "Securities via off-market transaction (e.g. married deals) \n",
            "Securities via physical settlement of derivatives or other securities \n",
            "Securities pursuant to rights issue \n",
            "Securities via a placement \n",
            "Securities following conversion/exercise of rights, options, warrants or other convertibles \n",
            "Disposal of: \n",
            "Securities via market transaction \n",
            "Securities via off-market transaction (e.g. married deals) \n",
            "Other circumstances : \n",
            "Acceptance of employee share options/share awards \n",
            "Vesting of share awards \n",
            "Exercise of employee share options \n",
            "Acceptance of take-over offer for Listed Issuer \n",
            "Corporate action by Listed Issuer (please specify): \n",
            "Others (please specify): \n",
            "8.      Quantum of interests in securities held by Director/CEO before and after the transaction. \n",
            "Please complete relevant table(s) below (for example, Table 1 should be completed if the change relates to \n",
            "ordinary voting shares of the Listed Issuer; Table 4 should be completed if the change relates to debentures): \n",
            "Table 1. Change in respect of ordinary voting shares/units of Listed Issuer \n",
            "Immediately before the transaction              Direct Interest   Deemed Interest                 Total \n",
            "12,225,020          2,196,772               14,421,792 \n",
            "No. of ordinary voting shares/units held: \n",
            "4.349               0.781                   5.13 \n",
            "As a percentage of total no. of ordinary \n",
            "voting shares/units: \n",
            "Immediately after the transaction              Direct Interest   Deemed Interest                 Total \n",
            "12,325,020          2,196,772               14,521,792 \n",
            "No. of ordinary voting shares/units held: \n",
            "FORM 1/[ Version 2.0 ]/Effective Date [ 21 March 2014 ]                                                                    Page 4 of 6\n",
            "4.385                0.781         5.166 \n",
            "As a percentage of total no. of ordinary \n",
            "voting shares/units: \n",
            "9.      Circumstances giving rise to deemed interests (if the interest is such): \n",
            "[You may attach a chart(s) in item 10 to illustrate how the Director/CEO's deemed interest, as \n",
            "set out in item 8 tables 1 to 8, arises] \n",
            "The deemed interest arises as Mr. James Toh is a shareholder of A.C.T. Holdings Pte Ltd. \n",
            "10.     Attachments (if any): \n",
            "(The total file size for all attachment(s) should not exceed 1MB.) \n",
            "11.     If this is a replacement of an earlier notification, please provide: \n",
            "(a)      SGXNet announcement reference of the first notification which was announced on SGXNet \n",
            "(the \"Initial Announcement\"): \n",
            "(b)      Date of the Initial Announcement: \n",
            "(c)      15-digit transaction reference number of the relevant transaction in the Form 1 which was \n",
            "attached in the Initial Announcement: \n",
            "12.     Remarks (if any): \n",
            "Transaction Reference Number (auto-generated): \n",
            "5 4 6 6 9 2 3 4 4 3 4 4 4 6 2 \n",
            "Item 13 is to be completed by an individual submitting this notification form on behalf of the Director/CEO. \n",
            "13.     Particulars of Individual submitting this notification form to the Listed Issuer: \n",
            "(a)      Name of Individual: \n",
            "Leong Sook Han \n",
            "(b)      Designation (if applicable): \n",
            "FORM 1/[ Version 2.0 ]/Effective Date [ 21 March 2014 ]                                                             Page 5 of 6\n",
            "Joint Company Secretary \n",
            "(c)     Name of entity (if applicable): \n",
            "AEM Holdings Ltd. \n",
            "FORM 1/[ Version 2.0 ]/Effective Date [ 21 March 2014 ] Page 6 of 6\n"
          ]
        }
      ]
    },
    {
      "cell_type": "code",
      "source": [
        "pdfs = glob.glob(dir+'/*.pdf')\n",
        "pdfs[:5]"
      ],
      "metadata": {
        "id": "7ylJjbvuNrvM",
        "colab": {
          "base_uri": "https://localhost:8080/"
        },
        "outputId": "30124337-4f4c-4922-c68f-3e2974f17f24"
      },
      "execution_count": 5,
      "outputs": [
        {
          "output_type": "execute_result",
          "data": {
            "text/plain": [
              "['/content/gdrive/My Drive/aem/company-announcements?value=AEM%20HOLDINGS%20LTD.&type=company&page=1&pagesize=100.pdf',\n",
              " '/content/gdrive/My Drive/aem/company-announcements?value=AEM%20HOLDINGS%20LTD.&type=company&page=2&pagesize=100.pdf',\n",
              " '/content/gdrive/My Drive/aem/720954_AEM to Create Over 300 Additional Jobs with the Expansion of its Singapore Malaysian and US Operations.pdf',\n",
              " '/content/gdrive/My Drive/aem/720611_FORM3 - EPF.pdf',\n",
              " '/content/gdrive/My Drive/aem/720612__FORM3 - EPF.pdf']"
            ]
          },
          "metadata": {},
          "execution_count": 5
        }
      ]
    },
    {
      "cell_type": "code",
      "source": [
        "#sentiment analysis"
      ],
      "metadata": {
        "id": "Bk6e6xM8NsI3"
      },
      "execution_count": 6,
      "outputs": []
    },
    {
      "cell_type": "code",
      "source": [
        "!pip install transformers"
      ],
      "metadata": {
        "id": "R6i0KHUuN1u-",
        "colab": {
          "base_uri": "https://localhost:8080/"
        },
        "outputId": "ca9b619f-8a27-4afd-e3d3-d913dc347d27"
      },
      "execution_count": 7,
      "outputs": [
        {
          "output_type": "stream",
          "name": "stdout",
          "text": [
            "Looking in indexes: https://pypi.org/simple, https://us-python.pkg.dev/colab-wheels/public/simple/\n",
            "Collecting transformers\n",
            "  Downloading transformers-4.20.0-py3-none-any.whl (4.4 MB)\n",
            "\u001b[K     |████████████████████████████████| 4.4 MB 31.9 MB/s \n",
            "\u001b[?25hRequirement already satisfied: requests in /usr/local/lib/python3.7/dist-packages (from transformers) (2.23.0)\n",
            "Requirement already satisfied: packaging>=20.0 in /usr/local/lib/python3.7/dist-packages (from transformers) (21.3)\n",
            "Requirement already satisfied: regex!=2019.12.17 in /usr/local/lib/python3.7/dist-packages (from transformers) (2022.6.2)\n",
            "Requirement already satisfied: importlib-metadata in /usr/local/lib/python3.7/dist-packages (from transformers) (4.11.4)\n",
            "Collecting huggingface-hub<1.0,>=0.1.0\n",
            "  Downloading huggingface_hub-0.7.0-py3-none-any.whl (86 kB)\n",
            "\u001b[K     |████████████████████████████████| 86 kB 3.6 MB/s \n",
            "\u001b[?25hCollecting tokenizers!=0.11.3,<0.13,>=0.11.1\n",
            "  Downloading tokenizers-0.12.1-cp37-cp37m-manylinux_2_12_x86_64.manylinux2010_x86_64.whl (6.6 MB)\n",
            "\u001b[K     |████████████████████████████████| 6.6 MB 41.8 MB/s \n",
            "\u001b[?25hCollecting pyyaml>=5.1\n",
            "  Downloading PyYAML-6.0-cp37-cp37m-manylinux_2_5_x86_64.manylinux1_x86_64.manylinux_2_12_x86_64.manylinux2010_x86_64.whl (596 kB)\n",
            "\u001b[K     |████████████████████████████████| 596 kB 56.2 MB/s \n",
            "\u001b[?25hRequirement already satisfied: tqdm>=4.27 in /usr/local/lib/python3.7/dist-packages (from transformers) (4.64.0)\n",
            "Requirement already satisfied: filelock in /usr/local/lib/python3.7/dist-packages (from transformers) (3.7.1)\n",
            "Requirement already satisfied: numpy>=1.17 in /usr/local/lib/python3.7/dist-packages (from transformers) (1.21.6)\n",
            "Requirement already satisfied: typing-extensions>=3.7.4.3 in /usr/local/lib/python3.7/dist-packages (from huggingface-hub<1.0,>=0.1.0->transformers) (4.1.1)\n",
            "Requirement already satisfied: pyparsing!=3.0.5,>=2.0.2 in /usr/local/lib/python3.7/dist-packages (from packaging>=20.0->transformers) (3.0.9)\n",
            "Requirement already satisfied: zipp>=0.5 in /usr/local/lib/python3.7/dist-packages (from importlib-metadata->transformers) (3.8.0)\n",
            "Requirement already satisfied: idna<3,>=2.5 in /usr/local/lib/python3.7/dist-packages (from requests->transformers) (2.10)\n",
            "Requirement already satisfied: urllib3!=1.25.0,!=1.25.1,<1.26,>=1.21.1 in /usr/local/lib/python3.7/dist-packages (from requests->transformers) (1.24.3)\n",
            "Requirement already satisfied: certifi>=2017.4.17 in /usr/local/lib/python3.7/dist-packages (from requests->transformers) (2022.6.15)\n",
            "Requirement already satisfied: chardet<4,>=3.0.2 in /usr/local/lib/python3.7/dist-packages (from requests->transformers) (3.0.4)\n",
            "Installing collected packages: pyyaml, tokenizers, huggingface-hub, transformers\n",
            "  Attempting uninstall: pyyaml\n",
            "    Found existing installation: PyYAML 3.13\n",
            "    Uninstalling PyYAML-3.13:\n",
            "      Successfully uninstalled PyYAML-3.13\n",
            "Successfully installed huggingface-hub-0.7.0 pyyaml-6.0 tokenizers-0.12.1 transformers-4.20.0\n"
          ]
        }
      ]
    },
    {
      "cell_type": "code",
      "source": [
        "from transformers import BertTokenizer, BertForSequenceClassification\n",
        "import torch\n",
        "from transformers import pipeline"
      ],
      "metadata": {
        "id": "K5ATRFSiy3dP"
      },
      "execution_count": 8,
      "outputs": []
    },
    {
      "cell_type": "code",
      "source": [
        "finbert = BertForSequenceClassification.from_pretrained('yiyanghkust/finbert-tone',num_labels=3)\n",
        "tokenizer = BertTokenizer.from_pretrained('yiyanghkust/finbert-tone')\n",
        "nlp = pipeline(\"sentiment-analysis\", model=finbert, tokenizer=tokenizer)"
      ],
      "metadata": {
        "id": "nDTBrYmwzsv5",
        "colab": {
          "base_uri": "https://localhost:8080/",
          "height": 113,
          "referenced_widgets": [
            "5f5153fad6174755908bd7b073d4f1fb",
            "56de58db196c4700bb5d4decf27f99ab",
            "67cb21fdba704fb18e3bdff6106e0ff0",
            "c6b67ac400f1486f9480e660705e1184",
            "6c35de6a53ef4b378bdde16a8e274323",
            "1e0d004ba54441a78d6e97c62ad39708",
            "7e7601431d6c4ef5bc8a37581ef3c07c",
            "7c20dc91e3ad4c90a38fbe7f9f79f498",
            "be2f8f50eb7b4ec79f8017985b1366b0",
            "fc125ec684774173910feead7ea5493c",
            "da441fa061ba4194b58c19bb384ad4f1",
            "6bb71f5f0ee742108f57aa008c5b871a",
            "e73b9243cab84bf4967c21d24b8f2bc5",
            "7d6c271d46d54d189c4d3a9442fe99ee",
            "93b84898a7924cd29ba65756a53784c7",
            "29ed1b4c03974b0a8ac0facdc7a3a36e",
            "3ce7c077f118448fa2c91f98caffb71b",
            "aa378d262fed41eda7a648290bc883ce",
            "14c990a0b0e540a3b4e086cdca1120d6",
            "c097393710d84b3b98b33f87a5705c5f",
            "50da71a0a18e4527bc866a7af7d457b5",
            "f51cf59f8e194ef7aa0f978258161af2",
            "790f780231b64245b8d1c52669c2fa53",
            "7481786406d74c61be07a4092f981173",
            "ce5ea48b63974b4497bf981827e0d59f",
            "3fcd0a8946bf4ca1a4d478165c65880f",
            "4cb45052da4444668fa4203e37983cc0",
            "ae47cc26ab194f4483d94809f1311235",
            "9922787e366a4612b8293f1e77765d14",
            "1ca156c11c8a4598b0cbaab9633c05d0",
            "991efdb410894d4dbc35100f3fcabc8e",
            "8a0d663416d9419f92898df920f645d7",
            "5c4bf687a653420e823538cb1a21136b"
          ]
        },
        "outputId": "6a97068f-7f67-43a6-f343-8193b6d53187"
      },
      "execution_count": 9,
      "outputs": [
        {
          "output_type": "display_data",
          "data": {
            "text/plain": [
              "Downloading:   0%|          | 0.00/533 [00:00<?, ?B/s]"
            ],
            "application/vnd.jupyter.widget-view+json": {
              "version_major": 2,
              "version_minor": 0,
              "model_id": "5f5153fad6174755908bd7b073d4f1fb"
            }
          },
          "metadata": {}
        },
        {
          "output_type": "display_data",
          "data": {
            "text/plain": [
              "Downloading:   0%|          | 0.00/419M [00:00<?, ?B/s]"
            ],
            "application/vnd.jupyter.widget-view+json": {
              "version_major": 2,
              "version_minor": 0,
              "model_id": "6bb71f5f0ee742108f57aa008c5b871a"
            }
          },
          "metadata": {}
        },
        {
          "output_type": "display_data",
          "data": {
            "text/plain": [
              "Downloading:   0%|          | 0.00/221k [00:00<?, ?B/s]"
            ],
            "application/vnd.jupyter.widget-view+json": {
              "version_major": 2,
              "version_minor": 0,
              "model_id": "790f780231b64245b8d1c52669c2fa53"
            }
          },
          "metadata": {}
        }
      ]
    },
    {
      "cell_type": "code",
      "source": [
        "label_list=['neutral','positive','negative']"
      ],
      "metadata": {
        "id": "xRzMpmnRz0US"
      },
      "execution_count": 10,
      "outputs": []
    },
    {
      "cell_type": "code",
      "source": [
        "inputs = tokenizer(\"growth is hindered\", return_tensors=\"pt\")\n",
        "outputs = finbert(**inputs)\n",
        "label_list[torch.argmax(outputs[0])]"
      ],
      "metadata": {
        "id": "-KMBd2v61urY",
        "colab": {
          "base_uri": "https://localhost:8080/",
          "height": 35
        },
        "outputId": "27d4c0a7-f3f4-4255-f836-b199b962b53b"
      },
      "execution_count": 11,
      "outputs": [
        {
          "output_type": "execute_result",
          "data": {
            "text/plain": [
              "'negative'"
            ],
            "application/vnd.google.colaboratory.intrinsic+json": {
              "type": "string"
            }
          },
          "metadata": {},
          "execution_count": 11
        }
      ]
    },
    {
      "cell_type": "code",
      "source": [
        "outputs[0]"
      ],
      "metadata": {
        "id": "pzYDVQvJ4hhA",
        "colab": {
          "base_uri": "https://localhost:8080/"
        },
        "outputId": "3c016f22-b897-4e59-857a-c5c90fab9f7c"
      },
      "execution_count": 12,
      "outputs": [
        {
          "output_type": "execute_result",
          "data": {
            "text/plain": [
              "tensor([[-3.5164, -3.6523, 11.3843]], grad_fn=<AddmmBackward0>)"
            ]
          },
          "metadata": {},
          "execution_count": 12
        }
      ]
    },
    {
      "cell_type": "code",
      "source": [
        "sentences = [\"there is a shortage of capital, and we need extra financing\",  \n",
        "             \"growth is strong and we have plenty of liquidity\", \n",
        "             \"there are doubts about our finances\", \n",
        "             \"profits are flat\",\n",
        "             \"growth is hindered\"]\n",
        "results = nlp(sentences)\n",
        "print(results)"
      ],
      "metadata": {
        "id": "XQ1ErVN81xoT",
        "colab": {
          "base_uri": "https://localhost:8080/"
        },
        "outputId": "a0fb3b83-becb-4c43-b5e3-c3861f97a268"
      },
      "execution_count": 13,
      "outputs": [
        {
          "output_type": "stream",
          "name": "stdout",
          "text": [
            "[{'label': 'Negative', 'score': 0.9966173768043518}, {'label': 'Positive', 'score': 1.0}, {'label': 'Negative', 'score': 0.9999710321426392}, {'label': 'Neutral', 'score': 0.9889442920684814}, {'label': 'Negative', 'score': 0.9999994039535522}]\n"
          ]
        }
      ]
    },
    {
      "cell_type": "code",
      "source": [
        ""
      ],
      "metadata": {
        "id": "aodRG-7k3bnk"
      },
      "execution_count": null,
      "outputs": []
    }
  ]
}